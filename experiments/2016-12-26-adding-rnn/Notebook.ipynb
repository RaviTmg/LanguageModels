{
 "cells": [
  {
   "cell_type": "markdown",
   "metadata": {},
   "source": [
    "# Word Prediction using Recurrent Neural Networks (RNNs)\n",
    "## Experiment 2016-12-23\n",
    "\n",
    "Loop over training size, plot learning curves. "
   ]
  },
  {
   "cell_type": "markdown",
   "metadata": {},
   "source": [
    "### Table of Contents"
   ]
  },
  {
   "cell_type": "markdown",
   "metadata": {},
   "source": [
    "1. Prepare Data\n",
    "2. Explore Data\n",
    "3. Analyze Models\n",
    "4. Generate Text"
   ]
  },
  {
   "cell_type": "markdown",
   "metadata": {},
   "source": [
    "## Imports"
   ]
  },
  {
   "cell_type": "code",
   "execution_count": 354,
   "metadata": {
    "collapsed": true
   },
   "outputs": [],
   "source": [
    "# import python modules\n",
    "from __future__ import print_function, division\n",
    "import os.path\n",
    "import random\n",
    "import pandas as pd\n",
    "import matplotlib.pyplot as plt\n",
    "%matplotlib inline\n",
    "from nltk import tokenize"
   ]
  },
  {
   "cell_type": "code",
   "execution_count": 355,
   "metadata": {
    "collapsed": false
   },
   "outputs": [
    {
     "name": "stdout",
     "output_type": "stream",
     "text": [
      "importing wp (and nltk)...\n",
      "done\n"
     ]
    }
   ],
   "source": [
    "# import wp modules (can be slow)\n",
    "import sys; sys.path.append('../../src')\n",
    "print('importing wp (and nltk)...')\n",
    "import wp\n",
    "print('done')"
   ]
  },
  {
   "cell_type": "code",
   "execution_count": 356,
   "metadata": {
    "collapsed": false
   },
   "outputs": [
    {
     "data": {
      "text/plain": [
       "<module 'wp.analyze' from '../../src\\wp\\analyze.pyc'>"
      ]
     },
     "execution_count": 356,
     "metadata": {},
     "output_type": "execute_result"
    }
   ],
   "source": [
    "# reload wp modules in case changed (for development purposes)\n",
    "reload(wp)\n",
    "reload(wp.data)\n",
    "reload(wp.util)\n",
    "reload(wp.model)\n",
    "reload(wp.ngram)\n",
    "reload(wp.rnn)\n",
    "reload(wp.analyze)"
   ]
  },
  {
   "cell_type": "markdown",
   "metadata": {},
   "source": [
    "## Initialize"
   ]
  },
  {
   "cell_type": "code",
   "execution_count": 357,
   "metadata": {
    "collapsed": true
   },
   "outputs": [],
   "source": [
    "random.seed(0)\n",
    "\n",
    "#nvocab = 100"
   ]
  },
  {
   "cell_type": "markdown",
   "metadata": {},
   "source": [
    "## 1. Prepare Data"
   ]
  },
  {
   "cell_type": "markdown",
   "metadata": {},
   "source": [
    "Merge raw text files, convert to plain strings, split into train, validate, and test sets."
   ]
  },
  {
   "cell_type": "code",
   "execution_count": 358,
   "metadata": {
    "collapsed": false
   },
   "outputs": [],
   "source": [
    "# get wrapper around all data and tokenization\n",
    "data = wp.data.Data()"
   ]
  },
  {
   "cell_type": "markdown",
   "metadata": {},
   "source": [
    "Merge the raw data files into one and remove non-ascii characters (nltk complains otherwise)."
   ]
  },
  {
   "cell_type": "code",
   "execution_count": 359,
   "metadata": {
    "collapsed": false
   },
   "outputs": [
    {
     "name": "stdout",
     "output_type": "stream",
     "text": [
      "The raw files have already been merged.\n"
     ]
    }
   ],
   "source": [
    "data.merge()"
   ]
  },
  {
   "cell_type": "markdown",
   "metadata": {},
   "source": [
    "Split the merged file by sentences into train, validate, and test sets."
   ]
  },
  {
   "cell_type": "code",
   "execution_count": 360,
   "metadata": {
    "collapsed": false
   },
   "outputs": [
    {
     "name": "stdout",
     "output_type": "stream",
     "text": [
      "The merged file has already been split.\n"
     ]
    }
   ],
   "source": [
    "data.split()"
   ]
  },
  {
   "cell_type": "markdown",
   "metadata": {},
   "source": [
    "Find most used vocabulary words to keep RNN from getting too expensive."
   ]
  },
  {
   "cell_type": "code",
   "execution_count": 361,
   "metadata": {
    "collapsed": true
   },
   "outputs": [],
   "source": [
    "#data.find_vocabulary(nvocab)"
   ]
  },
  {
   "cell_type": "markdown",
   "metadata": {},
   "source": [
    "## 2. Explore Data"
   ]
  },
  {
   "cell_type": "markdown",
   "metadata": {},
   "source": [
    "### Show some samples of the text"
   ]
  },
  {
   "cell_type": "code",
   "execution_count": 362,
   "metadata": {
    "collapsed": false
   },
   "outputs": [
    {
     "name": "stdout",
     "output_type": "stream",
     "text": [
      "The Project Gutenberg EBook of Les Misrables, by Victor Hugo  This eBook is for the use of anyone anywhere at no cost and with almost no restrictions whatsoever. You may copy it, give it away or re-us\n",
      "\n",
      "ng his loss of sleep by an hour at the swimming-school, he mounted rapidly to his chamber, took merely time enough to throw off his travelling-coat, and the black ribbon which he wore round his neck,\n",
      "\n",
      "than Javert. Javert, after his unlooked-for escape from the barricade, had betaken himself to the prefecture of police, had rendered a verbal account to the Prefect in person in a brief audience, had\n",
      "\n",
      "hire, where, some six months before, he had been left an orphan. Now, owing to the generous offer of his elderly cousin, Mr Abney, he had come to live at Aswarby. The offer was unexpected, because all\n",
      "\n"
     ]
    }
   ],
   "source": [
    "s_merged = data.text('merged')\n",
    "nsamples = 4\n",
    "nchars = len(s_merged)\n",
    "nskip = int(nchars / nsamples)\n",
    "for i in range(nsamples):\n",
    "    s = s_merged[i*nskip:i*nskip+200]\n",
    "    s = s.replace('\\n', ' ').strip()\n",
    "    print(s)\n",
    "    print()"
   ]
  },
  {
   "cell_type": "markdown",
   "metadata": {},
   "source": [
    "### Show some text split into sentences\n",
    "\n",
    "This shows how the text was split up into the train, validate, and test sets."
   ]
  },
  {
   "cell_type": "code",
   "execution_count": 363,
   "metadata": {
    "collapsed": false
   },
   "outputs": [
    {
     "name": "stdout",
     "output_type": "stream",
     "text": [
      "To villages where he found no schoolmaster, he quoted once more the people of Queyras: \"Do you know how they manage?\"\n",
      "\n",
      "Those who had and those who lacked knocked at M. Myriel's door,--the latter in search of the alms which the former came to deposit.\n",
      "\n",
      ".\n",
      "\n",
      ".\n",
      "\n",
      ".\n"
     ]
    }
   ],
   "source": [
    "# we'll just look at the first 50k characters, because parsing sentences is slow\n",
    "sentences = data.sentences('merged', 50000)\n",
    "random.seed(0)\n",
    "samples = random.sample(sentences, 5)\n",
    "print('\\n\\n'.join(samples))"
   ]
  },
  {
   "cell_type": "markdown",
   "metadata": {},
   "source": [
    "### Show the text split into tokens\n",
    "\n",
    "Note that punctuation marks are treated as separate tokens."
   ]
  },
  {
   "cell_type": "code",
   "execution_count": 364,
   "metadata": {
    "collapsed": false,
    "scrolled": true
   },
   "outputs": [
    {
     "name": "stdout",
     "output_type": "stream",
     "text": [
      "ntokens 10556\n",
      "['he', 'saw', 'everyone', 'exclaiming', 'very', 'loudly', ',', 'and', 'growing', 'angry', 'very', 'quickly', ',', '``', 'Oh', '!', 'END', 'oh', '!', \"''\", 'END', 'he', 'said', ',', 'with', 'a', 'smile', ';', '``', 'to', 'all', 'appearance', ',', 'this', 'is', 'a', 'great', 'crime', 'which', 'all', 'the', 'world', 'commits', '.', 'END', 'These', 'are', 'hypocrisies', 'w', 'END']\n"
     ]
    }
   ],
   "source": [
    "tokens = data.tokens('merged', 50000)\n",
    "print('ntokens',len(tokens))\n",
    "print(tokens[-50:])"
   ]
  },
  {
   "cell_type": "markdown",
   "metadata": {},
   "source": [
    "## 3. Analyze Models\n",
    "\n",
    "Train models on the training tokens and test them on the test tokens."
   ]
  },
  {
   "cell_type": "code",
   "execution_count": 365,
   "metadata": {
    "collapsed": true
   },
   "outputs": [],
   "source": [
    "# define models to test\n",
    "modelspecs = [\n",
    "    [wp.ngram.NgramModel, {'n':1}],\n",
    "    [wp.ngram.NgramModel, {'n':2}],\n",
    "    [wp.ngram.NgramModel, {'n':3}],\n",
    "    [wp.ngram.NgramModel, {'n':4}],\n",
    "    [wp.rnn.RnnModel, {'nvocab':1000,'nhidden':10}],\n",
    "]"
   ]
  },
  {
   "cell_type": "code",
   "execution_count": 366,
   "metadata": {
    "collapsed": false
   },
   "outputs": [
    {
     "name": "stdout",
     "output_type": "stream",
     "text": [
      "ntraining_chars 1000\n",
      "load model ../../data/models/NgramModel-(nchars-1000-n-1).pickle\n",
      "load model ../../data/models/NgramModel-(nchars-1000-n-2).pickle\n",
      "load model ../../data/models/NgramModel-(nchars-1000-n-3).pickle\n",
      "load model ../../data/models/NgramModel-(nchars-1000-n-4).pickle\n",
      "load model ../../data/models/RnnModel-(nchars-1000-nvocab-1000-nhidden-10).pickle\n",
      "ntraining_chars 10000\n",
      "load model ../../data/models/NgramModel-(nchars-10000-n-1).pickle\n",
      "load model ../../data/models/NgramModel-(nchars-10000-n-2).pickle\n",
      "load model ../../data/models/NgramModel-(nchars-10000-n-3).pickle\n",
      "load model ../../data/models/NgramModel-(nchars-10000-n-4).pickle\n",
      "load model ../../data/models/RnnModel-(nchars-10000-nvocab-1000-nhidden-10).pickle\n",
      "ntraining_chars 100000\n",
      "load model ../../data/models/NgramModel-(nchars-100000-n-1).pickle\n",
      "load model ../../data/models/NgramModel-(nchars-100000-n-2).pickle\n",
      "load model ../../data/models/NgramModel-(nchars-100000-n-3).pickle\n",
      "load model ../../data/models/NgramModel-(nchars-100000-n-4).pickle\n",
      "load model ../../data/models/RnnModel-(nchars-100000-nvocab-1000-nhidden-10).pickle\n"
     ]
    }
   ],
   "source": [
    "# train models on different amounts of training data\n",
    "modelfolder = '../../data/models'\n",
    "nchars_list = (1000,10000,100000)#,1000000)#,6000000)\n",
    "for nchars in nchars_list:\n",
    "    print('ntraining_chars', nchars)\n",
    "    # load/train/save model\n",
    "    models = wp.analyze.init_models(modelspecs, modelfolder, data, nchars) # load/train models"
   ]
  },
  {
   "cell_type": "code",
   "execution_count": 367,
   "metadata": {
    "collapsed": false
   },
   "outputs": [
    {
     "name": "stdout",
     "output_type": "stream",
     "text": [
      "nchars 1000\n",
      "get complete stream of test tokens, nchars=1000\n",
      "n-gram (n=1): accuracy = nright/total = 5/183 = 0.027322\n",
      "n-gram (n=2): accuracy = nright/total = 4/182 = 0.021978\n",
      "n-gram (n=3): accuracy = nright/total = 1/181 = 0.005525\n",
      "n-gram (n=4): accuracy = nright/total = 0/180 = 0.000000\n",
      "rnn: accuracy = nright/total = 0/179 = 0.000000\n",
      "\n",
      "nchars 10000\n",
      "get complete stream of test tokens, nchars=10000\n",
      "n-gram (n=1): accuracy = nright/total = 92/1001 = 0.091908\n",
      "n-gram (n=2): accuracy = nright/total = 31/1001 = 0.030969\n",
      "n-gram (n=3): accuracy = nright/total = 8/1001 = 0.007992\n",
      "n-gram (n=4): accuracy = nright/total = 1/1001 = 0.000999\n",
      "rnn: accuracy = nright/total = 11/1001 = 0.010989\n",
      "\n",
      "nchars 100000\n",
      "get complete stream of test tokens, nchars=100000\n",
      "n-gram (n=1): accuracy = nright/total = 92/1001 = 0.091908\n",
      "n-gram (n=2): accuracy = nright/total = 31/1001 = 0.030969\n",
      "n-gram (n=3): accuracy = nright/total = 8/1001 = 0.007992\n",
      "n-gram (n=4): accuracy = nright/total = 1/1001 = 0.000999\n",
      "rnn: accuracy = nright/total = 11/1001 = 0.010989\n",
      "\n"
     ]
    }
   ],
   "source": [
    "# test models and save results to a table\n",
    "rows = []\n",
    "npredictions_max = 1000\n",
    "k = 3 # predict top k tokens\n",
    "for nchars in nchars_list:\n",
    "    print('nchars',nchars)\n",
    "    results = wp.analyze.test_models(models, data, npredictions_max, k, nchars) # test models\n",
    "    print()\n",
    "    row = [nchars] + results\n",
    "    rows.append(row)"
   ]
  },
  {
   "cell_type": "code",
   "execution_count": 368,
   "metadata": {
    "collapsed": false,
    "scrolled": true
   },
   "outputs": [
    {
     "data": {
      "text/html": [
       "<div>\n",
       "<table border=\"1\" class=\"dataframe\">\n",
       "  <thead>\n",
       "    <tr style=\"text-align: right;\">\n",
       "      <th></th>\n",
       "      <th>nchars</th>\n",
       "      <th>n-gram (n=1)</th>\n",
       "      <th>n-gram (n=2)</th>\n",
       "      <th>n-gram (n=3)</th>\n",
       "      <th>n-gram (n=4)</th>\n",
       "      <th>rnn</th>\n",
       "    </tr>\n",
       "  </thead>\n",
       "  <tbody>\n",
       "    <tr>\n",
       "      <th>0</th>\n",
       "      <td>1000</td>\n",
       "      <td>0.027322</td>\n",
       "      <td>0.021978</td>\n",
       "      <td>0.005525</td>\n",
       "      <td>0.000000</td>\n",
       "      <td>0.000000</td>\n",
       "    </tr>\n",
       "    <tr>\n",
       "      <th>1</th>\n",
       "      <td>10000</td>\n",
       "      <td>0.091908</td>\n",
       "      <td>0.030969</td>\n",
       "      <td>0.007992</td>\n",
       "      <td>0.000999</td>\n",
       "      <td>0.010989</td>\n",
       "    </tr>\n",
       "    <tr>\n",
       "      <th>2</th>\n",
       "      <td>100000</td>\n",
       "      <td>0.091908</td>\n",
       "      <td>0.030969</td>\n",
       "      <td>0.007992</td>\n",
       "      <td>0.000999</td>\n",
       "      <td>0.010989</td>\n",
       "    </tr>\n",
       "  </tbody>\n",
       "</table>\n",
       "</div>"
      ],
      "text/plain": [
       "   nchars  n-gram (n=1)  n-gram (n=2)  n-gram (n=3)  n-gram (n=4)       rnn\n",
       "0    1000      0.027322      0.021978      0.005525      0.000000  0.000000\n",
       "1   10000      0.091908      0.030969      0.007992      0.000999  0.010989\n",
       "2  100000      0.091908      0.030969      0.007992      0.000999  0.010989"
      ]
     },
     "execution_count": 368,
     "metadata": {},
     "output_type": "execute_result"
    }
   ],
   "source": [
    "cols = ['nchars'] + [model.name for model in models]\n",
    "df = pd.DataFrame(rows, columns=cols)\n",
    "df"
   ]
  },
  {
   "cell_type": "code",
   "execution_count": 369,
   "metadata": {
    "collapsed": false
   },
   "outputs": [
    {
     "data": {
      "text/html": [
       "<div>\n",
       "<table border=\"1\" class=\"dataframe\">\n",
       "  <thead>\n",
       "    <tr style=\"text-align: right;\">\n",
       "      <th></th>\n",
       "      <th>1000</th>\n",
       "      <th>10000</th>\n",
       "      <th>100000</th>\n",
       "    </tr>\n",
       "  </thead>\n",
       "  <tbody>\n",
       "    <tr>\n",
       "      <th>n-gram (n=1)</th>\n",
       "      <td>0.027322</td>\n",
       "      <td>0.091908</td>\n",
       "      <td>0.091908</td>\n",
       "    </tr>\n",
       "    <tr>\n",
       "      <th>n-gram (n=2)</th>\n",
       "      <td>0.021978</td>\n",
       "      <td>0.030969</td>\n",
       "      <td>0.030969</td>\n",
       "    </tr>\n",
       "    <tr>\n",
       "      <th>n-gram (n=3)</th>\n",
       "      <td>0.005525</td>\n",
       "      <td>0.007992</td>\n",
       "      <td>0.007992</td>\n",
       "    </tr>\n",
       "    <tr>\n",
       "      <th>n-gram (n=4)</th>\n",
       "      <td>0.000000</td>\n",
       "      <td>0.000999</td>\n",
       "      <td>0.000999</td>\n",
       "    </tr>\n",
       "    <tr>\n",
       "      <th>rnn</th>\n",
       "      <td>0.000000</td>\n",
       "      <td>0.010989</td>\n",
       "      <td>0.010989</td>\n",
       "    </tr>\n",
       "  </tbody>\n",
       "</table>\n",
       "</div>"
      ],
      "text/plain": [
       "                1000      10000     100000\n",
       "n-gram (n=1)  0.027322  0.091908  0.091908\n",
       "n-gram (n=2)  0.021978  0.030969  0.030969\n",
       "n-gram (n=3)  0.005525  0.007992  0.007992\n",
       "n-gram (n=4)  0.000000  0.000999  0.000999\n",
       "rnn           0.000000  0.010989  0.010989"
      ]
     },
     "execution_count": 369,
     "metadata": {},
     "output_type": "execute_result"
    }
   ],
   "source": [
    "dft = df.transpose()\n",
    "dft.columns = nchars_list\n",
    "dft2 = dft.drop('nchars',axis=0)\n",
    "dft2"
   ]
  },
  {
   "cell_type": "code",
   "execution_count": 372,
   "metadata": {
    "collapsed": false,
    "scrolled": true
   },
   "outputs": [
    {
     "data": {
      "image/png": "[encoded data removed]",
      "text/plain": [
       "<matplotlib.figure.Figure at 0x11392d30>"
      ]
     },
     "metadata": {},
     "output_type": "display_data"
    }
   ],
   "source": [
    "plt.plot(dft2.columns, dft2.ix[0])\n",
    "plt.plot(dft2.columns, dft2.ix[1])\n",
    "plt.plot(dft2.columns, dft2.ix[2])\n",
    "plt.plot(dft2.columns, dft2.ix[3])\n",
    "plt.plot(dft2.columns, dft2.ix[4])\n",
    "#plt.legend(loc='best')\n",
    "plt.legend(loc=(1.1,0.5))\n",
    "plt.xscale('log')\n",
    "plt.xlabel('Training set size (chars)')\n",
    "plt.ylabel('Accuracy')\n",
    "plt.show()"
   ]
  },
  {
   "cell_type": "markdown",
   "metadata": {},
   "source": [
    "## 4. Generate Text"
   ]
  },
  {
   "cell_type": "code",
   "execution_count": 371,
   "metadata": {
    "collapsed": false
   },
   "outputs": [
    {
     "name": "stdout",
     "output_type": "stream",
     "text": [
      "n-gram (n=1)\n",
      "CHAPTER be END\n",
      "\n",
      "They out by has I and door accuse , me CHAPTER that by under and him the . etc Linnus must of . END\n",
      "\n",
      ". . , , CHAPTER SATISFIED a time to to hospitals been that END\n",
      "\n",
      "the of END\n",
      "\n",
      "the , END\n",
      "\n",
      "\n",
      "n-gram (n=2)\n",
      "Carrier is another wolf . END\n",
      "\n",
      "For the innocent , nevertheless , and sick and four unfortunate gendarmes were set to any one of a paper , and the treasurer of renunciation and set to whom his arrival , Poinot , 1833 CHAPTER VI -- THE CONJUNCTION OF SERVICE FROM THE SEWER AND NICOLETTE CHAPTER IV -- fifteen hundred francs , and forty-six thousand francs , because he was afraid ? END\n",
      "\n",
      "As he had discovered these thousand francs each other without , naked to notice it my carriage in with absolute submission by him , `` I shall see of all , common enough to it happen that valley , which were a schoolboy . '' pursued , as that I do you Wisdom and eighty-five auxiliary chapels . END\n",
      "\n",
      "He was expecting that he had already been extracted from the Bishop meditated on the town took him . END\n",
      "\n",
      "He fears nothing had none of a good sides of progress are down and towards women occupied the night for the dignities of which these portraits there was mounted on dry soil ; near the dawn . END\n",
      "\n",
      "\n",
      "n-gram (n=3)\n",
      "A glazed door opened on the bed of purple , senator . '' END\n",
      "\n",
      "Nevertheless , he caught sight of him in the old man of the Alpes , the peasants have not even claimed the allowance which the former member of the people of the priest 's house in which the Bishop , _ '' From Cravatte to Monseigneur . '' END\n",
      "\n",
      "1,000 `` Addition to the salary of the former came to D -- -- `` Man has upon him his flesh , it is responsible for the Monseigneur . '' END\n",
      "\n",
      "CHAPTER II -- COSETTE 'S APPREHENSIONS CHAPTER III -- WHILE COSETTE AND TOUSSAINT ARE ASLEEP CHAPTER IV -- ATTRACTION AND EXTINCTION BOOK NINTH. -- SUPREME SHADOW , SUPREME DAWN CHAPTER XI -- CHAMPMATHIEU MORE AND MORE ASTONISHED BOOK EIGHTH. -- ENCHANTMENTS AND DESOLATIONS CHAPTER I -- ONE MOTHER MEETS ANOTHER MOTHER CHAPTER II -- THE CHAMPMATHIEU AFFAIR CHAPTER I -- THE WILD MAN IN A GOOD GUIDE TO BULOW CHAPTER XII -- THE USE MADE OF MARIUS ' TWO CHAIRS FORM A VIS-A-VIS CHAPTER XIX -- JEAN VALJEAN CHAPTER II -- BADLY SEWED CHAPTER III -- MARIUS ' ASTONISHMENTS CHAPTER IV -- DETAILS CONCERNING THE CHEESE-DAIRIES OF PONTARLIER . END\n",
      "\n",
      "CHAPTER I -- FROM THE RUE PLUMET TO THE QUARTIER SAINT-DENIS CHAPTER II -- LAST FLICKERINGS OF A PROGRESS IN BLACK GLASS TRINKETS CHAPTER II -- COSETTE AFTER THE AGONY OF LIFE CHAPTER VII -- TO ONE SADNESS OPPOSE A SADNESS AND A HALF CHAPTER VIII -- BILLOWS AND SHADOWS CHAPTER IX -- JONDRETTE COMES NEAR WEEPING CHAPTER X -- THE EXTREME EDGE BOOK FOURTEENTH. -- THE MAN RECRUITED IN THE PRESENCE OF AN UNKNOWN LIGHT At an epoch a little matter enclosing a light ; large eyes forever drooping ; -- a man who is embarrassed by his own family , the sick and dying . END\n",
      "\n",
      "\n",
      "n-gram (n=4)\n",
      "A glazed door opened on the garden ; opposite this was the bed , behind a curtain , were the utensils of the toilet , which still betrayed the elegant habits of the man of the world and towards the lower classes . END\n",
      "\n",
      "Nevertheless , he put a good face on the matter . END\n",
      "\n",
      "1,000 `` -- -- - Total . END\n",
      "\n",
      "CHAPTER II -- COSETTE 'S APPREHENSIONS CHAPTER III -- WHILE COSETTE AND TOUSSAINT ARE ASLEEP CHAPTER IV -- ATTRACTION AND EXTINCTION BOOK NINTH. -- SUPREME SHADOW , SUPREME DAWN CHAPTER I -- NINETY YEARS AND THIRTY-TWO TEETH CHAPTER II -- HOUGOMONT CHAPTER III -- A PEN IS HEAVY TO THE MAN WHO LIFTED THE FAUCHELEVENT 'S CART CHAPTER IV -- THE TWO DUTIES : TO WATCH AND TO HOPE BOOK EIGHTH. -- THE WICKED POOR MAN CHAPTER I -- SISTER SIMPLICE PUT TO THE PROOF CHAPTER VII -- RULE : RECEIVE NO ONE EXCEPT IN THE EVENING CHAPTER VIII -- THE EMPEROR PUTS A QUESTION TO THE GUIDE LACOSTE CHAPTER IX -- THE UNEXPECTED CHAPTER X -- THE PLATEAU OF MONT-SAINT-JEAN CHAPTER XI -- OFFERS OF SERVICE FROM MISERY TO WRETCHEDNESS CHAPTER XII -- THE SOLITUDE OF MONSEIGNEUR WELCOME CHAPTER XIII -- THE CATASTROPHE CHAPTER XIV -- WHAT HE THOUGHT BOOK SECOND -- THE FALL CHAPTER I -- SISTER SIMPLICE PUT TO THE PROOF CHAPTER VII -- THE GAMIN SHOULD HAVE HIS PLACE IN THE CLASSIFICATIONS OF INDIA CHAPTER VIII -- IN WHICH A POLICE AGENT BESTOWS TWO FISTFULS ON A LAWYER CHAPTER XV -- JONDRETTE MAKES HIS PURCHASES CHAPTER XVI -- IN WHICH LITTLE GAVROCHE EXTRACTS PROFIT FROM NAPOLEON THE GREAT CHAPTER III -- A HARD BISHOPRIC FOR A GOOD BISHOP CHAPTER IV -- MADEMOISELLE GILLENORMAND ENDS BY NO LONGER THINKING IT A BAD THING THAT M. FAUCHELEVENT SHOULD HAVE ENTERED WITH SOMETHING UNDER HIS ARM CHAPTER V -- A SUITABLE TOMB VOLUME II. -- COSETTE BOOK FIRST. -- PARIS STUDIED IN ITS ATOM CHAPTER I -- THE FLAG : ACT SECOND CHAPTER III -- SLANG WHICH WEEPS AND SLANG WHICH LAUGHS CHAPTER IV -- CHANGE OF GATE CHAPTER V -- COSETTE AFTER THE LETTER CHAPTER VI -- TAKEN PRISONER CHAPTER VII -- THE OLD HEART AND THE YOUNG HEART IN THE PRESENCE OF EACH OTHER BOOK NINTH. -- WHITHER ARE THEY GOING ? END\n",
      "\n",
      "CHAPTER IX -- A PLACE WHERE CONVICTIONS ARE IN PROCESS OF FORMATION CHAPTER X -- DAWN CHAPTER XI -- A RESTRICTION CHAPTER XII -- DISORDER A PARTISAN OF ORDER CHAPTER XIII -- LITTLE GAVROCHE BOOK SECOND. -- THE INTESTINE OF THE LEVIATHAN CHAPTER I -- SOME EXPLANATIONS WITH REGARD TO A CERTAIN LE CABUC BOOK THIRTEENTH. -- MARIUS ENTERS THE SHADOW CHAPTER I -- AN ANCIENT SALON CHAPTER II -- TREASURE TROVE CHAPTER III -- THE EXTREME EDGE BOOK FOURTEENTH. -- THE GRANDEURS OF DESPAIR CHAPTER VIII -- TWO DO NOT MAKE A PAIR BOOK THIRD. -- MUD BUT THE SOUL CHAPTER I -- WELL CUT CHAPTER II -- BADLY SEWED CHAPTER III -- SUMS DEPOSITED WITH LAFFITTE CHAPTER IV -- AUTHORITY REASSERTS ITS RIGHTS CHAPTER V -- A PROVIDENTIAL PEEP-HOLE CHAPTER VI -- OLD PEOPLE ARE MADE TO GO OUT OPPORTUNELY BOOK SIXTH. -- JAVERT CHAPTER I -- AN ANCIENT SALON CHAPTER II -- MOTHER PLUTARQUE FINDS NO DIFFICULTY IN EXPLAINING A PHENOMENON BOOK FIFTH. -- THE DESCENT . END\n",
      "\n",
      "\n",
      "rnn\n",
      "possessed , I names cold shelter cathedral shall .\n",
      "\n",
      "I house nor these any explain country-side any is There Monseigneur III are the know . ''\n",
      "\n",
      "You oratory , in GOOD into me us in is have CHAPTER III -- a good to wrath ONE serve from since if It that recognized which had WELCOME good the IX .\n",
      "\n",
      "In directly .\n",
      "\n",
      "given a winter , and regiment very SHADOW shall he -- not added the air .\n",
      "\n",
      "\n"
     ]
    }
   ],
   "source": [
    "nsentences = 5\n",
    "for model in models:\n",
    "    print(model.name)\n",
    "    for seed in range(nsentences):\n",
    "        random.seed(seed)\n",
    "        tokens = model.generate()\n",
    "        if tokens:\n",
    "            s = ' '.join(tokens)\n",
    "            print(s)\n",
    "            print()\n",
    "    print()"
   ]
  },
  {
   "cell_type": "markdown",
   "metadata": {
    "collapsed": true
   },
   "source": []
  }
 ],
 "metadata": {
  "kernelspec": {
   "display_name": "Python 2",
   "language": "python",
   "name": "python2"
  },
  "language_info": {
   "codemirror_mode": {
    "name": "ipython",
    "version": 2
   },
   "file_extension": ".py",
   "mimetype": "text/x-python",
   "name": "python",
   "nbconvert_exporter": "python",
   "pygments_lexer": "ipython2",
   "version": "2.7.12"
  }
 },
 "nbformat": 4,
 "nbformat_minor": 1
}
