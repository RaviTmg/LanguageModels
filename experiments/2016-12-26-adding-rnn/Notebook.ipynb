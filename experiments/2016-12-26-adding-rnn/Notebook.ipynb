{
 "cells": [
  {
   "cell_type": "markdown",
   "metadata": {},
   "source": [
    "# Word Prediction using Recurrent Neural Networks (RNNs)\n",
    "## Experiment 2016-12-23\n",
    "\n",
    "Loop over training size, plot learning curves. "
   ]
  },
  {
   "cell_type": "markdown",
   "metadata": {},
   "source": [
    "### Table of Contents"
   ]
  },
  {
   "cell_type": "markdown",
   "metadata": {},
   "source": [
    "1. Prepare Data\n",
    "2. Explore Data\n",
    "3. Analyze Models\n",
    "4. Generate Text"
   ]
  },
  {
   "cell_type": "markdown",
   "metadata": {},
   "source": [
    "## Imports"
   ]
  },
  {
   "cell_type": "code",
   "execution_count": 79,
   "metadata": {
    "collapsed": true
   },
   "outputs": [],
   "source": [
    "# import python modules\n",
    "from __future__ import print_function, division\n",
    "import os.path\n",
    "import random\n",
    "import pandas as pd\n",
    "import matplotlib.pyplot as plt\n",
    "%matplotlib inline\n",
    "from nltk import tokenize"
   ]
  },
  {
   "cell_type": "code",
   "execution_count": 80,
   "metadata": {
    "collapsed": false
   },
   "outputs": [
    {
     "name": "stdout",
     "output_type": "stream",
     "text": [
      "importing wp (and nltk)...\n",
      "done\n"
     ]
    }
   ],
   "source": [
    "# import wp modules (can be slow)\n",
    "import sys; sys.path.append('../../src')\n",
    "print('importing wp (and nltk)...')\n",
    "import wp\n",
    "print('done')"
   ]
  },
  {
   "cell_type": "code",
   "execution_count": 81,
   "metadata": {
    "collapsed": false
   },
   "outputs": [
    {
     "data": {
      "text/plain": [
       "<module 'wp.analyze' from '../../src\\wp\\analyze.pyc'>"
      ]
     },
     "execution_count": 81,
     "metadata": {},
     "output_type": "execute_result"
    }
   ],
   "source": [
    "# reload wp modules in case changed (for development purposes)\n",
    "reload(wp)\n",
    "reload(wp.data)\n",
    "reload(wp.util)\n",
    "reload(wp.model)\n",
    "reload(wp.ngram)\n",
    "reload(wp.rnn)\n",
    "reload(wp.analyze)"
   ]
  },
  {
   "cell_type": "markdown",
   "metadata": {},
   "source": [
    "## Initialize"
   ]
  },
  {
   "cell_type": "code",
   "execution_count": 82,
   "metadata": {
    "collapsed": true
   },
   "outputs": [],
   "source": [
    "random.seed(0)"
   ]
  },
  {
   "cell_type": "markdown",
   "metadata": {},
   "source": [
    "## 1. Prepare Data"
   ]
  },
  {
   "cell_type": "markdown",
   "metadata": {},
   "source": [
    "Merge raw text files, convert to plain strings, split into train, validate, and test sets."
   ]
  },
  {
   "cell_type": "code",
   "execution_count": 83,
   "metadata": {
    "collapsed": false
   },
   "outputs": [],
   "source": [
    "# get wrapper around all data and tokenization\n",
    "data = wp.data.Data()"
   ]
  },
  {
   "cell_type": "markdown",
   "metadata": {},
   "source": [
    "Merge the raw data files into one and remove non-ascii characters (nltk complains otherwise)."
   ]
  },
  {
   "cell_type": "code",
   "execution_count": 84,
   "metadata": {
    "collapsed": false
   },
   "outputs": [
    {
     "name": "stdout",
     "output_type": "stream",
     "text": [
      "The raw files have already been merged.\n"
     ]
    }
   ],
   "source": [
    "data.merge()"
   ]
  },
  {
   "cell_type": "markdown",
   "metadata": {},
   "source": [
    "Split the merged file by sentences into train, validate, and test sets."
   ]
  },
  {
   "cell_type": "code",
   "execution_count": 85,
   "metadata": {
    "collapsed": false
   },
   "outputs": [
    {
     "name": "stdout",
     "output_type": "stream",
     "text": [
      "The merged file has already been split.\n"
     ]
    }
   ],
   "source": [
    "data.split()"
   ]
  },
  {
   "cell_type": "markdown",
   "metadata": {},
   "source": [
    "## 2. Explore Data"
   ]
  },
  {
   "cell_type": "markdown",
   "metadata": {},
   "source": [
    "### Show some samples of the text"
   ]
  },
  {
   "cell_type": "code",
   "execution_count": 86,
   "metadata": {
    "collapsed": false
   },
   "outputs": [
    {
     "name": "stdout",
     "output_type": "stream",
     "text": [
      "The Project Gutenberg EBook of Phantastes, by George MacDonald  This eBook is for the use of anyone anywhere at no cost and with almost no restrictions whatsoever.  You may copy it, give it away or re\n",
      "\n",
      "to be vanquished, retreated; but Wellington shouted, \"Up, Guards, and aim straight!\" The red regiment of English guards, lying flat behind the hedges, sprang up, a cloud of grape-shot riddled the tric\n",
      "\n",
      "xcept that geometrical point, the _I_; bringing everything back to the soul-atom; expanding everything in God, entangling all activity, from summit to base, in the obscurity of a dizzy mechanism, atta\n",
      "\n",
      "y, or to speak more accurately, that same evening, as Marius left the table, and was on the point of withdrawing to his study, having a case to look over, Basque handed him a letter saying: \"The perso\n",
      "\n",
      "ay evening in January, the lonely valley had been a desirable place to him; he had watched the green battlements in summer and winter weather, had seen the heaped mounds rising dimly amidst the drifti\n",
      "\n"
     ]
    }
   ],
   "source": [
    "s_merged = data.text('merged')\n",
    "nsamples = 5\n",
    "nchars = len(s_merged)\n",
    "nskip = int(nchars / nsamples)\n",
    "for i in range(nsamples):\n",
    "    s = s_merged[i*nskip:i*nskip+200]\n",
    "    s = s.replace('\\n', ' ').strip()\n",
    "    print(s)\n",
    "    print()"
   ]
  },
  {
   "cell_type": "markdown",
   "metadata": {},
   "source": [
    "### Show some text split into sentences\n",
    "\n",
    "This shows how the text was split up into the train, validate, and test sets."
   ]
  },
  {
   "cell_type": "code",
   "execution_count": 87,
   "metadata": {
    "collapsed": false
   },
   "outputs": [
    {
     "name": "stdout",
     "output_type": "stream",
     "text": [
      "And off they set, after some new mischief.\n",
      "\n",
      "Primrose is gone.\n",
      "\n",
      "But how then do you come to live here?\n",
      "\n",
      "He looked up, and lo!\n",
      "\n",
      "It contained many wondrous tales of Fairy Land, and olden times, and the Knights of King Arthurs table.\n"
     ]
    }
   ],
   "source": [
    "# we'll just look at the first 50k characters, because parsing sentences is slow\n",
    "sentences = data.sentences('merged', 50000)\n",
    "random.seed(0)\n",
    "samples = random.sample(sentences, 5)\n",
    "print('\\n\\n'.join(samples))"
   ]
  },
  {
   "cell_type": "markdown",
   "metadata": {},
   "source": [
    "### Show the text split into tokens\n",
    "\n",
    "Note that punctuation marks are treated as separate tokens."
   ]
  },
  {
   "cell_type": "code",
   "execution_count": 88,
   "metadata": {
    "collapsed": false,
    "scrolled": true
   },
   "outputs": [
    {
     "name": "stdout",
     "output_type": "stream",
     "text": [
      "ntokens 10785\n",
      "['off', 'with', 'you', '!', 'END', 'and', 'swing', 'alone', '.', 'END', 'no', 'one', 'will', 'laugh', 'with', 'you', '.', 'END', 'no', ',', 'not', 'one', '.', 'END', 'now', 'let', 'us', 'moan', '.', 'END', 'and', 'cover', 'her', 'oer', '.', 'END', 'primrose', 'is', 'gone', '.', 'END', 'all', 'but', 'the', 'flower', '.', 'END', 'here', 'is', 'a', 'leaf', '.', 'END', 'lay', 'her', 'upon', 'it', '.', 'END', 'follow', 'in', 'grief', '.', 'END', 'pocket', 'has', 'done', 'it', '.', 'END', 'deeper', ',', 'poor', 'creature', '!', 'END', 'winter', 'may', 'come', '.', 'END', 'he', 'can', 'not', 'reach', 'her', '--', 'that', 'is', 'a', 'hum', '.', 'END', 'she', 'is', 'buried', ',', 'the', 'beauty', '!']\n"
     ]
    }
   ],
   "source": [
    "tokens = data.tokens('merged', 50000) # look at first 50k characters\n",
    "print('ntokens',len(tokens))\n",
    "print(tokens[8000:8100])"
   ]
  },
  {
   "cell_type": "markdown",
   "metadata": {},
   "source": [
    "## 3. Analyze Models\n",
    "\n",
    "Train models on the training tokens and test them on the test tokens."
   ]
  },
  {
   "cell_type": "code",
   "execution_count": 89,
   "metadata": {
    "collapsed": true
   },
   "outputs": [],
   "source": [
    "# define models to test\n",
    "modelspecs = [\n",
    "    [wp.ngram.NgramModel, {'n':1}],\n",
    "    [wp.ngram.NgramModel, {'n':2}],\n",
    "    [wp.ngram.NgramModel, {'n':3}],\n",
    "    [wp.ngram.NgramModel, {'n':4}],\n",
    "#    [wp.rnn.RnnModel, {}],\n",
    "]"
   ]
  },
  {
   "cell_type": "code",
   "execution_count": 90,
   "metadata": {
    "collapsed": false
   },
   "outputs": [
    {
     "name": "stdout",
     "output_type": "stream",
     "text": [
      "ntraining_chars 1000\n",
      "create model object\n",
      "get complete stream of training tokens, nchars=1000\n",
      "train model\n",
      "get ngrams, n=1\n",
      "add ngrams to model\n",
      "save model\n",
      "create model object\n",
      "train model\n",
      "get ngrams, n=2\n",
      "add ngrams to model\n",
      "save model\n",
      "create model object\n",
      "train model\n",
      "get ngrams, n=3\n",
      "add ngrams to model\n",
      "save model\n",
      "create model object\n",
      "train model\n",
      "get ngrams, n=4\n",
      "add ngrams to model\n",
      "save model\n",
      "get complete stream of test tokens, nchars=1000\n",
      "get tuples, n=1\n",
      "n-gram (n=1): accuracy = nright/total = 18/197 = 0.091371\n",
      "get tuples, n=2\n",
      "n-gram (n=2): accuracy = nright/total = 14/196 = 0.071429\n",
      "get tuples, n=3\n",
      "n-gram (n=3): accuracy = nright/total = 0/195 = 0.000000\n",
      "get tuples, n=4\n",
      "n-gram (n=4): accuracy = nright/total = 0/194 = 0.000000\n",
      "\n",
      "ntraining_chars 10000\n",
      "create model object\n",
      "get complete stream of training tokens, nchars=10000\n",
      "train model\n",
      "get ngrams, n=1\n",
      "add ngrams to model\n",
      "save model\n",
      "create model object\n",
      "train model\n",
      "get ngrams, n=2\n",
      "add ngrams to model\n",
      "save model\n",
      "create model object\n",
      "train model\n",
      "get ngrams, n=3\n",
      "add ngrams to model\n",
      "save model\n",
      "create model object\n",
      "train model\n",
      "get ngrams, n=4\n",
      "add ngrams to model\n",
      "save model\n",
      "get complete stream of test tokens, nchars=10000\n",
      "get tuples, n=1\n",
      "n-gram (n=1): accuracy = nright/total = 185/1001 = 0.184815\n",
      "get tuples, n=2\n",
      "n-gram (n=2): accuracy = nright/total = 157/1001 = 0.156843\n",
      "get tuples, n=3\n",
      "n-gram (n=3): accuracy = nright/total = 31/1001 = 0.030969\n",
      "get tuples, n=4\n",
      "n-gram (n=4): accuracy = nright/total = 14/1001 = 0.013986\n",
      "\n",
      "ntraining_chars 100000\n",
      "create model object\n",
      "get complete stream of training tokens, nchars=100000\n",
      "train model\n",
      "get ngrams, n=1\n",
      "add ngrams to model\n",
      "save model\n",
      "create model object\n",
      "train model\n",
      "get ngrams, n=2\n",
      "add ngrams to model\n",
      "save model\n",
      "create model object\n",
      "train model\n",
      "get ngrams, n=3\n",
      "add ngrams to model\n",
      "save model\n",
      "create model object\n",
      "train model\n",
      "get ngrams, n=4\n",
      "add ngrams to model\n",
      "save model\n",
      "get complete stream of test tokens, nchars=100000\n",
      "get tuples, n=1\n",
      "n-gram (n=1): accuracy = nright/total = 185/1001 = 0.184815\n",
      "get tuples, n=2\n",
      "n-gram (n=2): accuracy = nright/total = 240/1001 = 0.239760\n",
      "get tuples, n=3\n",
      "n-gram (n=3): accuracy = nright/total = 116/1001 = 0.115884\n",
      "get tuples, n=4\n",
      "n-gram (n=4): accuracy = nright/total = 39/1001 = 0.038961\n",
      "\n"
     ]
    }
   ],
   "source": [
    "# if output table already exists, skip this step\n",
    "#try:\n",
    "#    rows\n",
    "#except:\n",
    "if 1:\n",
    "    modelfolder = '../../data/models'\n",
    "    #. should be ntraining_tokens\n",
    "    #nchars_list = (1000,10000,100000,1000000,6000000)\n",
    "    nchars_list = (1000,10000,100000)\n",
    "    rows = []\n",
    "    npredictions_max = 1000\n",
    "    k = 3 # predict top k tokens\n",
    "    for nchars in nchars_list:\n",
    "        print('ntraining_chars', nchars)\n",
    "        models = wp.analyze.init_models(modelspecs, modelfolder, data, nchars)\n",
    "        results = wp.analyze.test_models(models, data, npredictions_max, k, nchars)\n",
    "        print()\n",
    "        row = [nchars] + results\n",
    "        rows.append(row)"
   ]
  },
  {
   "cell_type": "code",
   "execution_count": 91,
   "metadata": {
    "collapsed": false,
    "scrolled": true
   },
   "outputs": [
    {
     "data": {
      "text/html": [
       "<div>\n",
       "<table border=\"1\" class=\"dataframe\">\n",
       "  <thead>\n",
       "    <tr style=\"text-align: right;\">\n",
       "      <th></th>\n",
       "      <th>nchars</th>\n",
       "      <th>n-gram (n=1)</th>\n",
       "      <th>n-gram (n=2)</th>\n",
       "      <th>n-gram (n=3)</th>\n",
       "      <th>n-gram (n=4)</th>\n",
       "    </tr>\n",
       "  </thead>\n",
       "  <tbody>\n",
       "    <tr>\n",
       "      <th>0</th>\n",
       "      <td>1000</td>\n",
       "      <td>0.091371</td>\n",
       "      <td>0.071429</td>\n",
       "      <td>0.000000</td>\n",
       "      <td>0.000000</td>\n",
       "    </tr>\n",
       "    <tr>\n",
       "      <th>1</th>\n",
       "      <td>10000</td>\n",
       "      <td>0.184815</td>\n",
       "      <td>0.156843</td>\n",
       "      <td>0.030969</td>\n",
       "      <td>0.013986</td>\n",
       "    </tr>\n",
       "    <tr>\n",
       "      <th>2</th>\n",
       "      <td>100000</td>\n",
       "      <td>0.184815</td>\n",
       "      <td>0.239760</td>\n",
       "      <td>0.115884</td>\n",
       "      <td>0.038961</td>\n",
       "    </tr>\n",
       "  </tbody>\n",
       "</table>\n",
       "</div>"
      ],
      "text/plain": [
       "   nchars  n-gram (n=1)  n-gram (n=2)  n-gram (n=3)  n-gram (n=4)\n",
       "0    1000      0.091371      0.071429      0.000000      0.000000\n",
       "1   10000      0.184815      0.156843      0.030969      0.013986\n",
       "2  100000      0.184815      0.239760      0.115884      0.038961"
      ]
     },
     "execution_count": 91,
     "metadata": {},
     "output_type": "execute_result"
    }
   ],
   "source": [
    "cols = ['nchars'] + [model.name for model in models]\n",
    "df = pd.DataFrame(rows, columns=cols)\n",
    "df"
   ]
  },
  {
   "cell_type": "code",
   "execution_count": 92,
   "metadata": {
    "collapsed": false
   },
   "outputs": [
    {
     "data": {
      "text/html": [
       "<div>\n",
       "<table border=\"1\" class=\"dataframe\">\n",
       "  <thead>\n",
       "    <tr style=\"text-align: right;\">\n",
       "      <th></th>\n",
       "      <th>1000</th>\n",
       "      <th>10000</th>\n",
       "      <th>100000</th>\n",
       "    </tr>\n",
       "  </thead>\n",
       "  <tbody>\n",
       "    <tr>\n",
       "      <th>n-gram (n=1)</th>\n",
       "      <td>0.091371</td>\n",
       "      <td>0.184815</td>\n",
       "      <td>0.184815</td>\n",
       "    </tr>\n",
       "    <tr>\n",
       "      <th>n-gram (n=2)</th>\n",
       "      <td>0.071429</td>\n",
       "      <td>0.156843</td>\n",
       "      <td>0.239760</td>\n",
       "    </tr>\n",
       "    <tr>\n",
       "      <th>n-gram (n=3)</th>\n",
       "      <td>0.000000</td>\n",
       "      <td>0.030969</td>\n",
       "      <td>0.115884</td>\n",
       "    </tr>\n",
       "    <tr>\n",
       "      <th>n-gram (n=4)</th>\n",
       "      <td>0.000000</td>\n",
       "      <td>0.013986</td>\n",
       "      <td>0.038961</td>\n",
       "    </tr>\n",
       "  </tbody>\n",
       "</table>\n",
       "</div>"
      ],
      "text/plain": [
       "                1000      10000     100000\n",
       "n-gram (n=1)  0.091371  0.184815  0.184815\n",
       "n-gram (n=2)  0.071429  0.156843  0.239760\n",
       "n-gram (n=3)  0.000000  0.030969  0.115884\n",
       "n-gram (n=4)  0.000000  0.013986  0.038961"
      ]
     },
     "execution_count": 92,
     "metadata": {},
     "output_type": "execute_result"
    }
   ],
   "source": [
    "dft = df.transpose()\n",
    "dft.columns = nchars_list\n",
    "dft2 = dft.drop('nchars',axis=0)\n",
    "dft2"
   ]
  },
  {
   "cell_type": "code",
   "execution_count": 93,
   "metadata": {
    "collapsed": false
   },
   "outputs": [
    {
     "data": {
      "image/png": "[encoded data removed]",
      "text/plain": [
       "<matplotlib.figure.Figure at 0x42b24128>"
      ]
     },
     "metadata": {},
     "output_type": "display_data"
    }
   ],
   "source": [
    "plt.plot(dft2.columns, dft2.ix[0])\n",
    "plt.plot(dft2.columns, dft2.ix[1])\n",
    "plt.plot(dft2.columns, dft2.ix[2])\n",
    "plt.plot(dft2.columns, dft2.ix[3])\n",
    "#plt.legend(loc='best')\n",
    "plt.legend(loc=(1.1,0.5))\n",
    "plt.xscale('log')\n",
    "plt.xlabel('Training set size (chars)')\n",
    "plt.ylabel('Accuracy')\n",
    "plt.show()"
   ]
  },
  {
   "cell_type": "markdown",
   "metadata": {},
   "source": [
    "## 4. Generate Text"
   ]
  },
  {
   "cell_type": "code",
   "execution_count": 94,
   "metadata": {
    "collapsed": false
   },
   "outputs": [
    {
     "name": "stdout",
     "output_type": "stream",
     "text": [
      "n-gram (n=1)\n",
      "from his END mother any sunrise questions the were of she and the giant as if she but up\n",
      "\n",
      "went from activity sheltered and turn to some , room ; END him sweetest END soon it i should\n",
      "\n",
      "i i , , ; beyond myself zusammenhang with with of do END not through primrose-flower i without END\n",
      "\n",
      "in without only low as , charred led the it whether that ; were poor though you front where\n",
      "\n",
      "in , not came , now withdrawn into see is these the country , life upon ; an into\n",
      "\n",
      "as done remembered i flood wild work that i to jar , that in no of lengthen has the\n",
      "\n",
      "be abode and the hath to that trees evil-doers both the into geisterwelt END evening followed . anarchie :\n",
      "\n",
      "bore though to , sound reply , say my END , , END ; better is at i of\n",
      "\n",
      "it distress then a , in kinds . all white one and . ; , it me the END\n",
      "\n",
      "that soul ate degrees even and looked , respect am how till a one its spite in , remained\n",
      "\n",
      "\n",
      "n-gram (n=2)\n",
      "i ran off . END but ill to strike its light , and the boughs of the poor creature\n",
      "\n",
      "she did the light , enveloping the rest of course seemed to end ! END a heavy waves above\n",
      "\n",
      "the odours of me it breaks on . END at this clearing a great building . END then neither\n",
      "\n",
      "we struck with you ? END seeing no wonder if my own later adventures . END in the fingers\n",
      "\n",
      "everything sleeps in blue and blue waves above the forest trees , went on , raising his kind ,\n",
      "\n",
      "in the human size , with distant blue waves sink away towards it , became aware of some degree\n",
      "\n",
      "i saw that closet , i could not satisfy myself , though ; for two wondrous hours , freed\n",
      "\n",
      "there , i had been looking for me in my hunger , which she is capable of the trees\n",
      "\n",
      "for the great difference in another room of a thick multitudinous roof , or two or art thou seest\n",
      "\n",
      "he had found the woods , but it was alive -- then he wandered into fairy land like a\n",
      "\n",
      "\n",
      "n-gram (n=3)\n",
      "romance of sir galahad and sir percivale rencountered in the morning , just before sunrise . END the glory of\n",
      "\n",
      "very true ! ) END -- but this cave may be the home of marble which , present throughout ,\n",
      "\n",
      "asked the old man . END how do you know it , indeed , i asked . END ha !\n",
      "\n",
      "did i ? END i can be sure whether all men and women and children , lying strewn and parted\n",
      "\n",
      "she is . END to this passage -- here it chanced , that i was wandering in childhood through sunny\n",
      "\n",
      "something compels me to follow it , up towards the open country , and that too i learned afterwards .\n",
      "\n",
      "in fact , it shot up into her face towards me , with other thoughts . END it was now\n",
      "\n",
      "even with her web of hair , if i live . END but she did not seem to think .\n",
      "\n",
      "whether all the time : i must . END he , with her flowers . END indeed , i can\n",
      "\n",
      "oh , you baby ! END she almost compelled me to see ; and i am fully resolved i shall\n",
      "\n",
      "\n",
      "n-gram (n=4)\n",
      "romance of sir launfal . END i had lost my way . END at length the thick leaves could hold it\n",
      "\n",
      "very true ! END you speak like a sensible man , sir . END we have but few sensible folks round\n",
      "\n",
      "asked the old man . END if the cat were at home , she would have her back up ; for\n",
      "\n",
      "did i ? END she retorted . END i sat and thought . END now and then , in a low\n",
      "\n",
      "she almost compelled me to swallow some wine , when i looked again , it had clung , these tapers served\n",
      "\n",
      "something compels me to go on , and go through it . END i remembered what the lady had said about\n",
      "\n",
      "in other parts , the whole of that edition and turned it into pulp . END my mind was just reviving\n",
      "\n",
      "even with her altered complexion and her face of dislike ; disenchanted of the belief that clung around her ; known\n",
      "\n",
      "whether all the flowers have fairies , i can not clearly remember . END the nearer end of this table remained\n",
      "\n",
      "oh ! END for miles and miles ; i do not know . END that i can not now tell ,\n",
      "\n",
      "\n"
     ]
    }
   ],
   "source": [
    "random.seed(0)\n",
    "k = 20 # number of words to generate per sequence\n",
    "nsequences = 10\n",
    "for model in models:\n",
    "    print(model.name)\n",
    "    for seed in range(nsequences):\n",
    "        random.seed(seed)\n",
    "        tokens = model.generate(k)\n",
    "        if tokens:\n",
    "            s = ' '.join(tokens)\n",
    "            print(s)\n",
    "            print()\n",
    "    print()"
   ]
  },
  {
   "cell_type": "markdown",
   "metadata": {
    "collapsed": true
   },
   "source": []
  }
 ],
 "metadata": {
  "kernelspec": {
   "display_name": "Python 2",
   "language": "python",
   "name": "python2"
  },
  "language_info": {
   "codemirror_mode": {
    "name": "ipython",
    "version": 2
   },
   "file_extension": ".py",
   "mimetype": "text/x-python",
   "name": "python",
   "nbconvert_exporter": "python",
   "pygments_lexer": "ipython2",
   "version": "2.7.12"
  }
 },
 "nbformat": 4,
 "nbformat_minor": 1
}
