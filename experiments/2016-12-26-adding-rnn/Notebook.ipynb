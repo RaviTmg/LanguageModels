{
 "cells": [
  {
   "cell_type": "markdown",
   "metadata": {},
   "source": [
    "# Word Prediction using Recurrent Neural Networks (RNNs)\n",
    "## Experiment 2016-12-23\n",
    "\n",
    "Loop over training size, plot learning curves. "
   ]
  },
  {
   "cell_type": "markdown",
   "metadata": {},
   "source": [
    "### Table of Contents"
   ]
  },
  {
   "cell_type": "markdown",
   "metadata": {},
   "source": [
    "1. Prepare Data\n",
    "2. Explore Data\n",
    "3. Analyze Models\n",
    "4. Generate Text"
   ]
  },
  {
   "cell_type": "markdown",
   "metadata": {},
   "source": [
    "## Imports"
   ]
  },
  {
   "cell_type": "code",
   "execution_count": 17,
   "metadata": {
    "collapsed": true
   },
   "outputs": [],
   "source": [
    "# import python modules\n",
    "from __future__ import print_function, division\n",
    "import os.path\n",
    "import random\n",
    "import pandas as pd\n",
    "import matplotlib.pyplot as plt\n",
    "%matplotlib inline\n",
    "from nltk import tokenize"
   ]
  },
  {
   "cell_type": "code",
   "execution_count": 18,
   "metadata": {
    "collapsed": false
   },
   "outputs": [
    {
     "name": "stdout",
     "output_type": "stream",
     "text": [
      "importing wp (and nltk)...\n",
      "done\n"
     ]
    }
   ],
   "source": [
    "# import wp modules (can be slow)\n",
    "import sys; sys.path.append('../../src')\n",
    "print('importing wp (and nltk)...')\n",
    "import wp\n",
    "print('done')"
   ]
  },
  {
   "cell_type": "code",
   "execution_count": 19,
   "metadata": {
    "collapsed": false
   },
   "outputs": [
    {
     "data": {
      "text/plain": [
       "<module 'wp.analyze' from '../../src\\wp\\analyze.pyc'>"
      ]
     },
     "execution_count": 19,
     "metadata": {},
     "output_type": "execute_result"
    }
   ],
   "source": [
    "# reload wp modules in case changed (for development purposes)\n",
    "reload(wp)\n",
    "reload(wp.data)\n",
    "reload(wp.util)\n",
    "reload(wp.model)\n",
    "reload(wp.ngram)\n",
    "reload(wp.rnn)\n",
    "reload(wp.analyze)"
   ]
  },
  {
   "cell_type": "markdown",
   "metadata": {},
   "source": [
    "## Initialize"
   ]
  },
  {
   "cell_type": "code",
   "execution_count": 20,
   "metadata": {
    "collapsed": true
   },
   "outputs": [],
   "source": [
    "random.seed(0)\n",
    "\n",
    "#nvocab = 100"
   ]
  },
  {
   "cell_type": "markdown",
   "metadata": {},
   "source": [
    "## 1. Prepare Data"
   ]
  },
  {
   "cell_type": "markdown",
   "metadata": {},
   "source": [
    "Merge raw text files, convert to plain strings, split into train, validate, and test sets."
   ]
  },
  {
   "cell_type": "code",
   "execution_count": 21,
   "metadata": {
    "collapsed": false
   },
   "outputs": [],
   "source": [
    "# get wrapper around all data and tokenization\n",
    "data = wp.data.Data()"
   ]
  },
  {
   "cell_type": "markdown",
   "metadata": {},
   "source": [
    "Merge the raw data files into one and remove non-ascii characters (nltk complains otherwise)."
   ]
  },
  {
   "cell_type": "code",
   "execution_count": 22,
   "metadata": {
    "collapsed": false
   },
   "outputs": [
    {
     "name": "stdout",
     "output_type": "stream",
     "text": [
      "The raw files have already been merged.\n"
     ]
    }
   ],
   "source": [
    "data.merge()"
   ]
  },
  {
   "cell_type": "markdown",
   "metadata": {},
   "source": [
    "Split the merged file by sentences into train, validate, and test sets."
   ]
  },
  {
   "cell_type": "code",
   "execution_count": 23,
   "metadata": {
    "collapsed": false
   },
   "outputs": [
    {
     "name": "stdout",
     "output_type": "stream",
     "text": [
      "The merged file has already been split.\n"
     ]
    }
   ],
   "source": [
    "data.split()"
   ]
  },
  {
   "cell_type": "markdown",
   "metadata": {},
   "source": [
    "Find most used vocabulary words to keep RNN from getting too expensive."
   ]
  },
  {
   "cell_type": "code",
   "execution_count": 24,
   "metadata": {
    "collapsed": true
   },
   "outputs": [],
   "source": [
    "#data.find_vocabulary(nvocab)"
   ]
  },
  {
   "cell_type": "markdown",
   "metadata": {},
   "source": [
    "## 2. Explore Data"
   ]
  },
  {
   "cell_type": "markdown",
   "metadata": {},
   "source": [
    "### Show some samples of the text"
   ]
  },
  {
   "cell_type": "code",
   "execution_count": 25,
   "metadata": {
    "collapsed": false
   },
   "outputs": [
    {
     "name": "stdout",
     "output_type": "stream",
     "text": [
      "The Project Gutenberg EBook of Les Misrables, by Victor Hugo  This eBook is for the use of anyone anywhere at no cost and with almost no restrictions whatsoever. You may copy it, give it away or re-us\n",
      "\n",
      "ng his loss of sleep by an hour at the swimming-school, he mounted rapidly to his chamber, took merely time enough to throw off his travelling-coat, and the black ribbon which he wore round his neck,\n",
      "\n",
      "than Javert. Javert, after his unlooked-for escape from the barricade, had betaken himself to the prefecture of police, had rendered a verbal account to the Prefect in person in a brief audience, had\n",
      "\n",
      "hire, where, some six months before, he had been left an orphan. Now, owing to the generous offer of his elderly cousin, Mr Abney, he had come to live at Aswarby. The offer was unexpected, because all\n",
      "\n"
     ]
    }
   ],
   "source": [
    "s_merged = data.text('merged')\n",
    "nsamples = 4\n",
    "nchars = len(s_merged)\n",
    "nskip = int(nchars / nsamples)\n",
    "for i in range(nsamples):\n",
    "    s = s_merged[i*nskip:i*nskip+200]\n",
    "    s = s.replace('\\n', ' ').strip()\n",
    "    print(s)\n",
    "    print()"
   ]
  },
  {
   "cell_type": "markdown",
   "metadata": {},
   "source": [
    "### Show some text split into sentences\n",
    "\n",
    "This shows how the text was split up into the train, validate, and test sets."
   ]
  },
  {
   "cell_type": "code",
   "execution_count": 26,
   "metadata": {
    "collapsed": false
   },
   "outputs": [
    {
     "name": "stdout",
     "output_type": "stream",
     "text": [
      "To villages where he found no schoolmaster, he quoted once more the people of Queyras: \"Do you know how they manage?\"\n",
      "\n",
      "Those who had and those who lacked knocked at M. Myriel's door,--the latter in search of the alms which the former came to deposit.\n",
      "\n",
      ".\n",
      "\n",
      ".\n",
      "\n",
      ".\n"
     ]
    }
   ],
   "source": [
    "# we'll just look at the first 50k characters, because parsing sentences is slow\n",
    "sentences = data.sentences('merged', 50000)\n",
    "random.seed(0)\n",
    "samples = random.sample(sentences, 5)\n",
    "print('\\n\\n'.join(samples))"
   ]
  },
  {
   "cell_type": "markdown",
   "metadata": {},
   "source": [
    "### Show the text split into tokens\n",
    "\n",
    "Note that punctuation marks are treated as separate tokens."
   ]
  },
  {
   "cell_type": "code",
   "execution_count": 33,
   "metadata": {
    "collapsed": false,
    "scrolled": true
   },
   "outputs": [
    {
     "name": "stdout",
     "output_type": "stream",
     "text": [
      "ntokens 10556\n",
      "['he', 'saw', 'everyone', 'exclaiming', 'very', 'loudly', ',', 'and', 'growing', 'angry', 'very', 'quickly', ',', '``', 'Oh', '!', 'END', 'oh', '!', \"''\", 'END', 'he', 'said', ',', 'with', 'a', 'smile', ';', '``', 'to', 'all', 'appearance', ',', 'this', 'is', 'a', 'great', 'crime', 'which', 'all', 'the', 'world', 'commits', '.', 'END', 'These', 'are', 'hypocrisies', 'w', 'END']\n"
     ]
    }
   ],
   "source": [
    "tokens = data.tokens('merged', 50000)\n",
    "print('ntokens',len(tokens))\n",
    "print(tokens[-50:])"
   ]
  },
  {
   "cell_type": "markdown",
   "metadata": {},
   "source": [
    "## 3. Analyze Models\n",
    "\n",
    "Train models on the training tokens and test them on the test tokens."
   ]
  },
  {
   "cell_type": "code",
   "execution_count": 28,
   "metadata": {
    "collapsed": true
   },
   "outputs": [],
   "source": [
    "# define models to test\n",
    "modelspecs = [\n",
    "    [wp.ngram.NgramModel, {'n':1}],\n",
    "    [wp.ngram.NgramModel, {'n':2}],\n",
    "    [wp.ngram.NgramModel, {'n':3}],\n",
    "    [wp.ngram.NgramModel, {'n':4}],\n",
    "#    [wp.rnn.RnnModel, {'nvocab':1000,'nhidden':10}],\n",
    "]"
   ]
  },
  {
   "cell_type": "code",
   "execution_count": 41,
   "metadata": {
    "collapsed": false
   },
   "outputs": [
    {
     "name": "stdout",
     "output_type": "stream",
     "text": [
      "ntraining_chars 1000\n",
      "create model object\n",
      "get complete stream of training tokens, nchars=1000\n",
      "train model\n",
      "get ngrams, n=1\n",
      "add ngrams to model\n",
      "save model\n",
      "create model object\n",
      "train model\n",
      "get ngrams, n=2\n",
      "add ngrams to model\n",
      "save model\n",
      "create model object\n",
      "train model\n",
      "get ngrams, n=3\n",
      "add ngrams to model\n",
      "save model\n",
      "create model object\n",
      "train model\n",
      "get ngrams, n=4\n",
      "add ngrams to model\n",
      "save model\n",
      "get complete stream of test tokens, nchars=1000\n",
      "group tokens into tuples, n=1\n",
      "n-gram (n=1): accuracy = nright/total = 44/185 = 0.237838\n",
      "group tokens into tuples, n=2\n",
      "n-gram (n=2): accuracy = nright/total = 23/184 = 0.125000\n",
      "group tokens into tuples, n=3\n",
      "n-gram (n=3): accuracy = nright/total = 12/183 = 0.065574\n",
      "group tokens into tuples, n=4\n",
      "n-gram (n=4): accuracy = nright/total = 1/182 = 0.005495\n",
      "\n",
      "ntraining_chars 10000\n",
      "create model object\n",
      "get complete stream of training tokens, nchars=10000\n",
      "train model\n",
      "get ngrams, n=1\n",
      "add ngrams to model\n",
      "save model\n",
      "create model object\n",
      "train model\n",
      "get ngrams, n=2\n",
      "add ngrams to model\n",
      "save model\n",
      "create model object\n",
      "train model\n",
      "get ngrams, n=3\n",
      "add ngrams to model\n",
      "save model\n",
      "create model object\n",
      "train model\n",
      "get ngrams, n=4\n",
      "add ngrams to model\n",
      "save model\n",
      "get complete stream of test tokens, nchars=10000\n",
      "group tokens into tuples, n=1\n",
      "n-gram (n=1): accuracy = nright/total = 174/1001 = 0.173826\n",
      "group tokens into tuples, n=2\n",
      "n-gram (n=2): accuracy = nright/total = 197/1001 = 0.196803\n",
      "group tokens into tuples, n=3\n",
      "n-gram (n=3): accuracy = nright/total = 106/1001 = 0.105894\n",
      "group tokens into tuples, n=4\n",
      "n-gram (n=4): accuracy = nright/total = 33/1001 = 0.032967\n",
      "\n",
      "ntraining_chars 100000\n",
      "create model object\n",
      "get complete stream of training tokens, nchars=100000\n",
      "train model\n",
      "get ngrams, n=1\n",
      "add ngrams to model\n",
      "save model\n",
      "create model object\n",
      "train model\n",
      "get ngrams, n=2\n",
      "add ngrams to model\n",
      "save model\n",
      "create model object\n",
      "train model\n",
      "get ngrams, n=3\n",
      "add ngrams to model\n",
      "save model\n",
      "create model object\n",
      "train model\n",
      "get ngrams, n=4\n",
      "add ngrams to model\n",
      "save model\n",
      "get complete stream of test tokens, nchars=100000\n",
      "group tokens into tuples, n=1\n",
      "n-gram (n=1): accuracy = nright/total = 92/1001 = 0.091908\n",
      "group tokens into tuples, n=2\n",
      "n-gram (n=2): accuracy = nright/total = 283/1001 = 0.282717\n",
      "group tokens into tuples, n=3\n",
      "n-gram (n=3): accuracy = nright/total = 175/1001 = 0.174825\n",
      "group tokens into tuples, n=4\n",
      "n-gram (n=4): accuracy = nright/total = 76/1001 = 0.075924\n",
      "\n",
      "ntraining_chars 1000000\n",
      "create model object\n",
      "get complete stream of training tokens, nchars=1000000\n",
      "train model\n",
      "get ngrams, n=1\n",
      "add ngrams to model\n",
      "save model\n",
      "create model object\n",
      "train model\n",
      "get ngrams, n=2\n",
      "add ngrams to model\n",
      "save model\n",
      "create model object\n",
      "train model\n",
      "get ngrams, n=3\n",
      "add ngrams to model\n",
      "save model\n",
      "create model object\n",
      "train model\n",
      "get ngrams, n=4\n",
      "add ngrams to model\n",
      "save model\n",
      "get complete stream of test tokens, nchars=1000000\n",
      "group tokens into tuples, n=1\n",
      "n-gram (n=1): accuracy = nright/total = 74/1001 = 0.073926\n",
      "group tokens into tuples, n=2\n",
      "n-gram (n=2): accuracy = nright/total = 389/1001 = 0.388611\n",
      "group tokens into tuples, n=3\n",
      "n-gram (n=3): accuracy = nright/total = 400/1001 = 0.399600\n",
      "group tokens into tuples, n=4\n",
      "n-gram (n=4): accuracy = nright/total = 328/1001 = 0.327672\n",
      "\n"
     ]
    }
   ],
   "source": [
    "# train models on different amounts of training data \n",
    "# and save results to a table.\n",
    "\n",
    "modelfolder = '../../data/models'\n",
    "#. should be ntraining_tokens\n",
    "nchars_list = (1000,10000,100000,1000000)#,6000000)\n",
    "rows = []\n",
    "npredictions_max = 1000\n",
    "k = 3 # predict top k tokens\n",
    "for nchars in nchars_list:\n",
    "    print('ntraining_chars', nchars)\n",
    "    # moved train/load/test code to analyze.py to keep notebook simpler\n",
    "    models = wp.analyze.init_models(modelspecs, modelfolder, data, nchars) # load/train models\n",
    "    results = wp.analyze.test_models(models, data, npredictions_max, k, nchars) # test models\n",
    "    print()\n",
    "    row = [nchars] + results\n",
    "    rows.append(row)\n"
   ]
  },
  {
   "cell_type": "code",
   "execution_count": 42,
   "metadata": {
    "collapsed": false,
    "scrolled": true
   },
   "outputs": [
    {
     "data": {
      "text/html": [
       "<div>\n",
       "<table border=\"1\" class=\"dataframe\">\n",
       "  <thead>\n",
       "    <tr style=\"text-align: right;\">\n",
       "      <th></th>\n",
       "      <th>nchars</th>\n",
       "      <th>n-gram (n=1)</th>\n",
       "      <th>n-gram (n=2)</th>\n",
       "      <th>n-gram (n=3)</th>\n",
       "      <th>n-gram (n=4)</th>\n",
       "    </tr>\n",
       "  </thead>\n",
       "  <tbody>\n",
       "    <tr>\n",
       "      <th>0</th>\n",
       "      <td>1000</td>\n",
       "      <td>0.237838</td>\n",
       "      <td>0.125000</td>\n",
       "      <td>0.065574</td>\n",
       "      <td>0.005495</td>\n",
       "    </tr>\n",
       "    <tr>\n",
       "      <th>1</th>\n",
       "      <td>10000</td>\n",
       "      <td>0.173826</td>\n",
       "      <td>0.196803</td>\n",
       "      <td>0.105894</td>\n",
       "      <td>0.032967</td>\n",
       "    </tr>\n",
       "    <tr>\n",
       "      <th>2</th>\n",
       "      <td>100000</td>\n",
       "      <td>0.091908</td>\n",
       "      <td>0.282717</td>\n",
       "      <td>0.174825</td>\n",
       "      <td>0.075924</td>\n",
       "    </tr>\n",
       "    <tr>\n",
       "      <th>3</th>\n",
       "      <td>1000000</td>\n",
       "      <td>0.073926</td>\n",
       "      <td>0.388611</td>\n",
       "      <td>0.399600</td>\n",
       "      <td>0.327672</td>\n",
       "    </tr>\n",
       "  </tbody>\n",
       "</table>\n",
       "</div>"
      ],
      "text/plain": [
       "    nchars  n-gram (n=1)  n-gram (n=2)  n-gram (n=3)  n-gram (n=4)\n",
       "0     1000      0.237838      0.125000      0.065574      0.005495\n",
       "1    10000      0.173826      0.196803      0.105894      0.032967\n",
       "2   100000      0.091908      0.282717      0.174825      0.075924\n",
       "3  1000000      0.073926      0.388611      0.399600      0.327672"
      ]
     },
     "execution_count": 42,
     "metadata": {},
     "output_type": "execute_result"
    }
   ],
   "source": [
    "cols = ['nchars'] + [model.name for model in models]\n",
    "df = pd.DataFrame(rows, columns=cols)\n",
    "df"
   ]
  },
  {
   "cell_type": "code",
   "execution_count": 43,
   "metadata": {
    "collapsed": false
   },
   "outputs": [
    {
     "data": {
      "text/html": [
       "<div>\n",
       "<table border=\"1\" class=\"dataframe\">\n",
       "  <thead>\n",
       "    <tr style=\"text-align: right;\">\n",
       "      <th></th>\n",
       "      <th>1000</th>\n",
       "      <th>10000</th>\n",
       "      <th>100000</th>\n",
       "      <th>1000000</th>\n",
       "    </tr>\n",
       "  </thead>\n",
       "  <tbody>\n",
       "    <tr>\n",
       "      <th>n-gram (n=1)</th>\n",
       "      <td>0.237838</td>\n",
       "      <td>0.173826</td>\n",
       "      <td>0.091908</td>\n",
       "      <td>0.073926</td>\n",
       "    </tr>\n",
       "    <tr>\n",
       "      <th>n-gram (n=2)</th>\n",
       "      <td>0.125000</td>\n",
       "      <td>0.196803</td>\n",
       "      <td>0.282717</td>\n",
       "      <td>0.388611</td>\n",
       "    </tr>\n",
       "    <tr>\n",
       "      <th>n-gram (n=3)</th>\n",
       "      <td>0.065574</td>\n",
       "      <td>0.105894</td>\n",
       "      <td>0.174825</td>\n",
       "      <td>0.399600</td>\n",
       "    </tr>\n",
       "    <tr>\n",
       "      <th>n-gram (n=4)</th>\n",
       "      <td>0.005495</td>\n",
       "      <td>0.032967</td>\n",
       "      <td>0.075924</td>\n",
       "      <td>0.327672</td>\n",
       "    </tr>\n",
       "  </tbody>\n",
       "</table>\n",
       "</div>"
      ],
      "text/plain": [
       "               1000      10000     100000    1000000\n",
       "n-gram (n=1)  0.237838  0.173826  0.091908  0.073926\n",
       "n-gram (n=2)  0.125000  0.196803  0.282717  0.388611\n",
       "n-gram (n=3)  0.065574  0.105894  0.174825  0.399600\n",
       "n-gram (n=4)  0.005495  0.032967  0.075924  0.327672"
      ]
     },
     "execution_count": 43,
     "metadata": {},
     "output_type": "execute_result"
    }
   ],
   "source": [
    "dft = df.transpose()\n",
    "dft.columns = nchars_list\n",
    "dft2 = dft.drop('nchars',axis=0)\n",
    "dft2"
   ]
  },
  {
   "cell_type": "code",
   "execution_count": 44,
   "metadata": {
    "collapsed": false,
    "scrolled": true
   },
   "outputs": [
    {
     "data": {
      "image/png": "[encoded data removed]",
      "text/plain": [
       "<matplotlib.figure.Figure at 0xc5f4f60>"
      ]
     },
     "metadata": {},
     "output_type": "display_data"
    }
   ],
   "source": [
    "plt.plot(dft2.columns, dft2.ix[0])\n",
    "plt.plot(dft2.columns, dft2.ix[1])\n",
    "plt.plot(dft2.columns, dft2.ix[2])\n",
    "plt.plot(dft2.columns, dft2.ix[3])\n",
    "#plt.legend(loc='best')\n",
    "plt.legend(loc=(1.1,0.5))\n",
    "plt.xscale('log')\n",
    "plt.xlabel('Training set size (chars)')\n",
    "plt.ylabel('Accuracy')\n",
    "plt.show()"
   ]
  },
  {
   "cell_type": "markdown",
   "metadata": {},
   "source": [
    "## 4. Generate Text"
   ]
  },
  {
   "cell_type": "code",
   "execution_count": 45,
   "metadata": {
    "collapsed": false
   },
   "outputs": [
    {
     "name": "stdout",
     "output_type": "stream",
     "text": [
      "n-gram (n=1)\n",
      "and laid a ink he -- hammers the hands , of he 1817 over in edition of who END\n",
      "\n",
      "I and temptation become BE conflict man name 's . END\n",
      "\n",
      "moss are . '' END\n",
      "\n",
      "this , There is in had They END\n",
      "\n",
      "this `` you with had -- governed END\n",
      "\n",
      "\n",
      "n-gram (n=2)\n",
      "He showed no water , and uneasy flight . END\n",
      "\n",
      "`` Are you mean to his curacy for them children who said of whose whole of the less a glance into a fault , was crowned and the millionaire or trouble for what was still shouts . END\n",
      "\n",
      "How pay me , Cteaux . END\n",
      "\n",
      "One day , with indignation : _M . END\n",
      "\n",
      "One Sunday , the Lame . '' END\n",
      "\n",
      "\n",
      "n-gram (n=3)\n",
      "Look at the sun ; to rush towards a glory . END\n",
      "\n",
      "Thence it results that , if he entertained all these English bullets enter my bowels ! '' END\n",
      "\n",
      "Yesterday he saw Fantine 's dictation , and three hundred light cavalry on the following sermon in the matter , and to himself , peaceful , adoring , comparing the serenity of the resolution which I saved in 1793 . END\n",
      "\n",
      "Prejudices are the effects of the battle ; and as he had built , that obscure hour , '' but so amiable was he who spoke French , thirteen per cent . END\n",
      "\n",
      "Inexhaustible in the glance of disdain on him ; -- I am better . END\n",
      "\n",
      "\n",
      "n-gram (n=4)\n",
      "Look at the reports . END\n",
      "\n",
      "Thence it results that , in consequence , not to stifle it . END\n",
      "\n",
      "Yesterday he saw some one riding by on horseback who had on knee-caps , and he will be able to purchase a set of drawing-room furniture in yellow Utrecht velvet , stamped with a rose pattern , and with wretchedness debauchery , prostitution , theft , murder ; all vices disappear , all crimes : and this poor mother rears her child ; perhaps , also , without knowing why , but because he furnished Henri IV. , the Huguenot king , with the following title : _Works of Voltaire_ , of the hat on which he leaned . END\n",
      "\n",
      "Prejudices are the real murderers . END\n",
      "\n",
      "Inexhaustible in the matter of Wellington . END\n",
      "\n",
      "\n"
     ]
    }
   ],
   "source": [
    "nsentences = 5\n",
    "for model in models:\n",
    "    print(model.name)\n",
    "    for seed in range(nsentences):\n",
    "        random.seed(seed)\n",
    "        tokens = model.generate()\n",
    "        if tokens:\n",
    "            s = ' '.join(tokens)\n",
    "            print(s)\n",
    "            print()\n",
    "    print()"
   ]
  },
  {
   "cell_type": "markdown",
   "metadata": {
    "collapsed": true
   },
   "source": []
  }
 ],
 "metadata": {
  "kernelspec": {
   "display_name": "Python 2",
   "language": "python",
   "name": "python2"
  },
  "language_info": {
   "codemirror_mode": {
    "name": "ipython",
    "version": 2
   },
   "file_extension": ".py",
   "mimetype": "text/x-python",
   "name": "python",
   "nbconvert_exporter": "python",
   "pygments_lexer": "ipython2",
   "version": "2.7.12"
  }
 },
 "nbformat": 4,
 "nbformat_minor": 1
}
