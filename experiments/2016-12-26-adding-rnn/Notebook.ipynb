{
 "cells": [
  {
   "cell_type": "markdown",
   "metadata": {},
   "source": [
    "# Word Prediction using Recurrent Neural Networks (RNNs)\n",
    "## Experiment 2016-12-23\n",
    "\n",
    "Loop over training size, plot learning curves. "
   ]
  },
  {
   "cell_type": "markdown",
   "metadata": {},
   "source": [
    "### Table of Contents"
   ]
  },
  {
   "cell_type": "markdown",
   "metadata": {},
   "source": [
    "1. Prepare Data\n",
    "2. Explore Data\n",
    "3. Train Models\n",
    "4. Test Models\n",
    "5. Generate Text"
   ]
  },
  {
   "cell_type": "markdown",
   "metadata": {},
   "source": [
    "## Imports"
   ]
  },
  {
   "cell_type": "code",
   "execution_count": 130,
   "metadata": {
    "collapsed": true
   },
   "outputs": [],
   "source": [
    "# import python modules\n",
    "from __future__ import print_function, division\n",
    "import os.path\n",
    "import random\n",
    "import pandas as pd\n",
    "import matplotlib.pyplot as plt\n",
    "%matplotlib inline\n",
    "from nltk import tokenize"
   ]
  },
  {
   "cell_type": "code",
   "execution_count": 131,
   "metadata": {
    "collapsed": false
   },
   "outputs": [
    {
     "name": "stdout",
     "output_type": "stream",
     "text": [
      "importing wp (and nltk)...\n",
      "done\n"
     ]
    }
   ],
   "source": [
    "# import wp modules (can be slow)\n",
    "import sys; sys.path.append('../../src')\n",
    "print('importing wp (and nltk)...')\n",
    "import wp\n",
    "print('done')"
   ]
  },
  {
   "cell_type": "code",
   "execution_count": 132,
   "metadata": {
    "collapsed": false
   },
   "outputs": [
    {
     "data": {
      "text/plain": [
       "<module 'wp.analyze' from '../../src\\wp\\analyze.pyc'>"
      ]
     },
     "execution_count": 132,
     "metadata": {},
     "output_type": "execute_result"
    }
   ],
   "source": [
    "# reload wp modules in case changed (for development purposes)\n",
    "reload(wp)\n",
    "reload(wp.data)\n",
    "reload(wp.util)\n",
    "reload(wp.model)\n",
    "reload(wp.ngram)\n",
    "reload(wp.rnn)\n",
    "reload(wp.analyze)"
   ]
  },
  {
   "cell_type": "markdown",
   "metadata": {},
   "source": [
    "## Initialize"
   ]
  },
  {
   "cell_type": "code",
   "execution_count": 133,
   "metadata": {
    "collapsed": true
   },
   "outputs": [],
   "source": [
    "random.seed(0)"
   ]
  },
  {
   "cell_type": "markdown",
   "metadata": {},
   "source": [
    "## 1. Prepare Data"
   ]
  },
  {
   "cell_type": "markdown",
   "metadata": {},
   "source": [
    "Merge raw text files, convert to plain strings, split into train, validate, and test sets."
   ]
  },
  {
   "cell_type": "code",
   "execution_count": 134,
   "metadata": {
    "collapsed": false
   },
   "outputs": [],
   "source": [
    "# get wrapper around all data and tokenization\n",
    "data = wp.data.Data()"
   ]
  },
  {
   "cell_type": "markdown",
   "metadata": {},
   "source": [
    "Merge the raw data files into one and remove non-ascii characters (nltk complains otherwise)."
   ]
  },
  {
   "cell_type": "code",
   "execution_count": 135,
   "metadata": {
    "collapsed": false
   },
   "outputs": [
    {
     "name": "stdout",
     "output_type": "stream",
     "text": [
      "The raw files have already been merged.\n"
     ]
    }
   ],
   "source": [
    "data.merge()"
   ]
  },
  {
   "cell_type": "markdown",
   "metadata": {},
   "source": [
    "Split the merged file by sentences into train, validate, and test sets."
   ]
  },
  {
   "cell_type": "code",
   "execution_count": 136,
   "metadata": {
    "collapsed": false
   },
   "outputs": [
    {
     "name": "stdout",
     "output_type": "stream",
     "text": [
      "The merged file has already been split.\n"
     ]
    }
   ],
   "source": [
    "data.split()"
   ]
  },
  {
   "cell_type": "markdown",
   "metadata": {},
   "source": [
    "## 2. Explore Data"
   ]
  },
  {
   "cell_type": "markdown",
   "metadata": {},
   "source": [
    "### Show some samples of the text"
   ]
  },
  {
   "cell_type": "code",
   "execution_count": 137,
   "metadata": {
    "collapsed": false
   },
   "outputs": [
    {
     "name": "stdout",
     "output_type": "stream",
     "text": [
      "The Project Gutenberg EBook of Les Misrables, by Victor Hugo  This eBook is for the use of anyone anywhere at no cost and with almost no restrictions whatsoever. You may copy it, give it away or re-us\n",
      "\n",
      "ng his loss of sleep by an hour at the swimming-school, he mounted rapidly to his chamber, took merely time enough to throw off his travelling-coat, and the black ribbon which he wore round his neck,\n",
      "\n",
      "than Javert. Javert, after his unlooked-for escape from the barricade, had betaken himself to the prefecture of police, had rendered a verbal account to the Prefect in person in a brief audience, had\n",
      "\n",
      "hire, where, some six months before, he had been left an orphan. Now, owing to the generous offer of his elderly cousin, Mr Abney, he had come to live at Aswarby. The offer was unexpected, because all\n",
      "\n"
     ]
    }
   ],
   "source": [
    "s_merged = data.text('merged')\n",
    "nsamples = 4\n",
    "nchars = len(s_merged)\n",
    "nskip = int(nchars / nsamples)\n",
    "for i in range(nsamples):\n",
    "    s = s_merged[i*nskip:i*nskip+200]\n",
    "    s = s.replace('\\n', ' ').strip()\n",
    "    print(s)\n",
    "    print()"
   ]
  },
  {
   "cell_type": "markdown",
   "metadata": {},
   "source": [
    "### Show some text split into sentences\n",
    "\n",
    "This shows how the text was split up into the train, validate, and test sets."
   ]
  },
  {
   "cell_type": "code",
   "execution_count": 138,
   "metadata": {
    "collapsed": false
   },
   "outputs": [
    {
     "name": "stdout",
     "output_type": "stream",
     "text": [
      "He said, _\"En b!\n",
      "\n",
      "In the winter they break this bread up with an axe, and they soak it for twenty-four hours, in order to render it eatable.\n",
      "\n",
      "No one could have told: all that was known was, that when he returned from Italy he was a priest.\n",
      "\n",
      "No one would have dared to mention them; no one would have dared to recall them.\n",
      "\n",
      "Mon Dieu!\n"
     ]
    }
   ],
   "source": [
    "# we'll just look at the first 50k characters, because parsing sentences is slow\n",
    "sentences = data.sentences('merged', 50000)\n",
    "random.seed(2)\n",
    "samples = random.sample(sentences, 5)\n",
    "print('\\n\\n'.join(samples))"
   ]
  },
  {
   "cell_type": "markdown",
   "metadata": {},
   "source": [
    "### Show the text split into tokens\n",
    "\n",
    "Note that punctuation marks are treated as separate tokens."
   ]
  },
  {
   "cell_type": "code",
   "execution_count": 139,
   "metadata": {
    "collapsed": false,
    "scrolled": true
   },
   "outputs": [
    {
     "name": "stdout",
     "output_type": "stream",
     "text": [
      "ntokens 10556\n",
      "['he', 'saw', 'everyone', 'exclaiming', 'very', 'loudly', ',', 'and', 'growing', 'angry', 'very', 'quickly', ',', '``', 'Oh', '!', 'END', 'oh', '!', \"''\", 'END', 'he', 'said', ',', 'with', 'a', 'smile', ';', '``', 'to', 'all', 'appearance', ',', 'this', 'is', 'a', 'great', 'crime', 'which', 'all', 'the', 'world', 'commits', '.', 'END', 'These', 'are', 'hypocrisies', 'w', 'END']\n"
     ]
    }
   ],
   "source": [
    "tokens = data.tokens('merged', 50000)\n",
    "print('ntokens',len(tokens))\n",
    "print(tokens[-50:])"
   ]
  },
  {
   "cell_type": "markdown",
   "metadata": {},
   "source": [
    "## 3. Train Models\n",
    "\n",
    "Train models on the training tokens."
   ]
  },
  {
   "cell_type": "code",
   "execution_count": 140,
   "metadata": {
    "collapsed": true
   },
   "outputs": [],
   "source": [
    "# define models to train and test\n",
    "model_specs = [\n",
    "    [wp.ngram.NgramModel, {'n':1}],\n",
    "    [wp.ngram.NgramModel, {'n':2}],\n",
    "    [wp.ngram.NgramModel, {'n':3}],\n",
    "    [wp.ngram.NgramModel, {'n':4}],\n",
    "    [wp.rnn.RnnModel, {'nvocabmax':1000,'nhidden':10}],\n",
    "]"
   ]
  },
  {
   "cell_type": "code",
   "execution_count": 156,
   "metadata": {
    "collapsed": false
   },
   "outputs": [
    {
     "name": "stdout",
     "output_type": "stream",
     "text": [
      "ntraining_chars 1000\n",
      "loaded model n-gram (n=1)\n",
      "loaded model n-gram (n=2)\n",
      "loaded model n-gram (n=3)\n",
      "loaded model n-gram (n=4)\n",
      "loaded model rnn\n",
      "ntraining_chars 10000\n",
      "loaded model n-gram (n=1)\n",
      "loaded model n-gram (n=2)\n",
      "loaded model n-gram (n=3)\n",
      "loaded model n-gram (n=4)\n",
      "loaded model rnn\n",
      "ntraining_chars 100000\n",
      "loaded model n-gram (n=1)\n",
      "loaded model n-gram (n=2)\n",
      "loaded model n-gram (n=3)\n",
      "loaded model n-gram (n=4)\n",
      "loaded model rnn\n"
     ]
    }
   ],
   "source": [
    "# train models on different amounts of training data\n",
    "\n",
    "nchars_list = (1000,10000,100000,1000000,6000000)\n",
    "model_folder = '../../data/models'\n",
    "model_table = wp.analyze.init_model_table(model_specs, model_folder, data, nchars_list)"
   ]
  },
  {
   "cell_type": "markdown",
   "metadata": {},
   "source": [
    "## 4. Test Models\n",
    "\n",
    "Test all models on held-out test data."
   ]
  },
  {
   "cell_type": "code",
   "execution_count": 152,
   "metadata": {
    "collapsed": false
   },
   "outputs": [
    {
     "name": "stdout",
     "output_type": "stream",
     "text": [
      "get complete stream of test tokens, nchars=10000\n",
      "n-gram (n=1): accuracy = nright/total = 173/1001 = 0.172827\n",
      "n-gram (n=2): accuracy = nright/total = 5/1001 = 0.004995\n",
      "n-gram (n=3): accuracy = nright/total = 0/1001 = 0.000000\n",
      "n-gram (n=4): accuracy = nright/total = 0/1001 = 0.000000\n",
      "rnn: accuracy = nright/total = 16/1001 = 0.015984\n",
      "get complete stream of test tokens, nchars=10000\n",
      "n-gram (n=1): accuracy = nright/total = 173/1001 = 0.172827\n",
      "n-gram (n=2): accuracy = nright/total = 16/1001 = 0.015984\n",
      "n-gram (n=3): accuracy = nright/total = 2/1001 = 0.001998\n",
      "n-gram (n=4): accuracy = nright/total = 0/1001 = 0.000000\n",
      "rnn: accuracy = nright/total = 71/1001 = 0.070929\n",
      "get complete stream of test tokens, nchars=10000\n",
      "n-gram (n=1): accuracy = nright/total = 92/1001 = 0.091908\n",
      "n-gram (n=2): accuracy = nright/total = 31/1001 = 0.030969\n",
      "n-gram (n=3): accuracy = nright/total = 8/1001 = 0.007992\n",
      "n-gram (n=4): accuracy = nright/total = 1/1001 = 0.000999\n",
      "rnn: accuracy = nright/total = 34/1001 = 0.033966\n"
     ]
    }
   ],
   "source": [
    "# test all models and save results to a pandas dataframe\n",
    "\n",
    "ntest_chars = 10000\n",
    "npredictions_max = 1000\n",
    "k = 3 # predict top k tokens\n",
    "\n",
    "df = wp.analyze.test_model_table(model_table, data, ntest_chars, npredictions_max, k)"
   ]
  },
  {
   "cell_type": "code",
   "execution_count": 153,
   "metadata": {
    "collapsed": false,
    "scrolled": true
   },
   "outputs": [
    {
     "data": {
      "text/html": [
       "<div>\n",
       "<table border=\"1\" class=\"dataframe\">\n",
       "  <thead>\n",
       "    <tr style=\"text-align: right;\">\n",
       "      <th></th>\n",
       "      <th>1000</th>\n",
       "      <th>10000</th>\n",
       "      <th>100000</th>\n",
       "    </tr>\n",
       "  </thead>\n",
       "  <tbody>\n",
       "    <tr>\n",
       "      <th>n-gram (n=1)</th>\n",
       "      <td>0.172827</td>\n",
       "      <td>0.172827</td>\n",
       "      <td>0.091908</td>\n",
       "    </tr>\n",
       "    <tr>\n",
       "      <th>n-gram (n=2)</th>\n",
       "      <td>0.004995</td>\n",
       "      <td>0.015984</td>\n",
       "      <td>0.030969</td>\n",
       "    </tr>\n",
       "    <tr>\n",
       "      <th>n-gram (n=3)</th>\n",
       "      <td>0.000000</td>\n",
       "      <td>0.001998</td>\n",
       "      <td>0.007992</td>\n",
       "    </tr>\n",
       "    <tr>\n",
       "      <th>n-gram (n=4)</th>\n",
       "      <td>0.000000</td>\n",
       "      <td>0.000000</td>\n",
       "      <td>0.000999</td>\n",
       "    </tr>\n",
       "    <tr>\n",
       "      <th>rnn</th>\n",
       "      <td>0.015984</td>\n",
       "      <td>0.070929</td>\n",
       "      <td>0.033966</td>\n",
       "    </tr>\n",
       "  </tbody>\n",
       "</table>\n",
       "</div>"
      ],
      "text/plain": [
       "                1000      10000     100000\n",
       "n-gram (n=1)  0.172827  0.172827  0.091908\n",
       "n-gram (n=2)  0.004995  0.015984  0.030969\n",
       "n-gram (n=3)  0.000000  0.001998  0.007992\n",
       "n-gram (n=4)  0.000000  0.000000  0.000999\n",
       "rnn           0.015984  0.070929  0.033966"
      ]
     },
     "execution_count": 153,
     "metadata": {},
     "output_type": "execute_result"
    }
   ],
   "source": [
    "df"
   ]
  },
  {
   "cell_type": "code",
   "execution_count": 154,
   "metadata": {
    "collapsed": false,
    "scrolled": true
   },
   "outputs": [
    {
     "data": {
      "image/png": "[encoded data removed]",
      "text/plain": [
       "<matplotlib.figure.Figure at 0xc7245c0>"
      ]
     },
     "metadata": {},
     "output_type": "display_data"
    }
   ],
   "source": [
    "for i in range(len(df.index)):\n",
    "    ix_i = df.ix[i]\n",
    "    plt.plot(df.columns, ix_i)\n",
    "plt.legend(loc=(1.1,0.5))\n",
    "plt.xscale('log')\n",
    "plt.xlabel('Training set size (chars)')\n",
    "plt.ylabel('Accuracy')\n",
    "plt.show()"
   ]
  },
  {
   "cell_type": "markdown",
   "metadata": {},
   "source": [
    "## 5. Generate Text"
   ]
  },
  {
   "cell_type": "code",
   "execution_count": 155,
   "metadata": {
    "collapsed": false
   },
   "outputs": [
    {
     "name": "stdout",
     "output_type": "stream",
     "text": [
      "n-gram (n=1)\n",
      "--------------------------------------------------------------------------------\n",
      "CHAPTER be END\n",
      "\n",
      "They out by has I and door accuse , me CHAPTER that by under and him the . etc Linnus must of . END\n",
      "\n",
      ". . , , CHAPTER SATISFIED a time to to hospitals been that END\n",
      "\n",
      "the of END\n",
      "\n",
      "the , END\n",
      "\n",
      "\n",
      "n-gram (n=2)\n",
      "--------------------------------------------------------------------------------\n",
      "Carrier is another wolf . END\n",
      "\n",
      "For the innocent , nevertheless , and sick and four unfortunate gendarmes were set to any one of a paper , and the treasurer of renunciation and set to whom his arrival , Poinot , 1833 CHAPTER VI -- THE CONJUNCTION OF SERVICE FROM THE SEWER AND NICOLETTE CHAPTER IV -- fifteen hundred francs , and forty-six thousand francs , because he was afraid ? END\n",
      "\n",
      "As he had discovered these thousand francs each other without , naked to notice it my carriage in with absolute submission by him , `` I shall see of all , common enough to it happen that valley , which were a schoolboy . '' pursued , as that I do you Wisdom and eighty-five auxiliary chapels . END\n",
      "\n",
      "He was expecting that he had already been extracted from the Bishop meditated on the town took him . END\n",
      "\n",
      "He fears nothing had none of a good sides of progress are down and towards women occupied the night for the dignities of which these portraits there was mounted on dry soil ; near the dawn . END\n",
      "\n",
      "\n",
      "n-gram (n=3)\n",
      "--------------------------------------------------------------------------------\n",
      "A glazed door opened on the bed of purple , senator . '' END\n",
      "\n",
      "Nevertheless , he caught sight of him in the old man of the Alpes , the peasants have not even claimed the allowance which the former member of the people of the priest 's house in which the Bishop , _ '' From Cravatte to Monseigneur . '' END\n",
      "\n",
      "1,000 `` Addition to the salary of the former came to D -- -- `` Man has upon him his flesh , it is responsible for the Monseigneur . '' END\n",
      "\n",
      "CHAPTER II -- COSETTE 'S APPREHENSIONS CHAPTER III -- WHILE COSETTE AND TOUSSAINT ARE ASLEEP CHAPTER IV -- ATTRACTION AND EXTINCTION BOOK NINTH. -- SUPREME SHADOW , SUPREME DAWN CHAPTER XI -- CHAMPMATHIEU MORE AND MORE ASTONISHED BOOK EIGHTH. -- ENCHANTMENTS AND DESOLATIONS CHAPTER I -- ONE MOTHER MEETS ANOTHER MOTHER CHAPTER II -- THE CHAMPMATHIEU AFFAIR CHAPTER I -- THE WILD MAN IN A GOOD GUIDE TO BULOW CHAPTER XII -- THE USE MADE OF MARIUS ' TWO CHAIRS FORM A VIS-A-VIS CHAPTER XIX -- JEAN VALJEAN CHAPTER II -- BADLY SEWED CHAPTER III -- MARIUS ' ASTONISHMENTS CHAPTER IV -- DETAILS CONCERNING THE CHEESE-DAIRIES OF PONTARLIER . END\n",
      "\n",
      "CHAPTER I -- FROM THE RUE PLUMET TO THE QUARTIER SAINT-DENIS CHAPTER II -- LAST FLICKERINGS OF A PROGRESS IN BLACK GLASS TRINKETS CHAPTER II -- COSETTE AFTER THE AGONY OF LIFE CHAPTER VII -- TO ONE SADNESS OPPOSE A SADNESS AND A HALF CHAPTER VIII -- BILLOWS AND SHADOWS CHAPTER IX -- JONDRETTE COMES NEAR WEEPING CHAPTER X -- THE EXTREME EDGE BOOK FOURTEENTH. -- THE MAN RECRUITED IN THE PRESENCE OF AN UNKNOWN LIGHT At an epoch a little matter enclosing a light ; large eyes forever drooping ; -- a man who is embarrassed by his own family , the sick and dying . END\n",
      "\n",
      "\n",
      "n-gram (n=4)\n",
      "--------------------------------------------------------------------------------\n",
      "A glazed door opened on the garden ; opposite this was the bed , behind a curtain , were the utensils of the toilet , which still betrayed the elegant habits of the man of the world and towards the lower classes . END\n",
      "\n",
      "Nevertheless , he put a good face on the matter . END\n",
      "\n",
      "1,000 `` -- -- - Total . END\n",
      "\n",
      "CHAPTER II -- COSETTE 'S APPREHENSIONS CHAPTER III -- WHILE COSETTE AND TOUSSAINT ARE ASLEEP CHAPTER IV -- ATTRACTION AND EXTINCTION BOOK NINTH. -- SUPREME SHADOW , SUPREME DAWN CHAPTER I -- NINETY YEARS AND THIRTY-TWO TEETH CHAPTER II -- HOUGOMONT CHAPTER III -- A PEN IS HEAVY TO THE MAN WHO LIFTED THE FAUCHELEVENT 'S CART CHAPTER IV -- THE TWO DUTIES : TO WATCH AND TO HOPE BOOK EIGHTH. -- THE WICKED POOR MAN CHAPTER I -- SISTER SIMPLICE PUT TO THE PROOF CHAPTER VII -- RULE : RECEIVE NO ONE EXCEPT IN THE EVENING CHAPTER VIII -- THE EMPEROR PUTS A QUESTION TO THE GUIDE LACOSTE CHAPTER IX -- THE UNEXPECTED CHAPTER X -- THE PLATEAU OF MONT-SAINT-JEAN CHAPTER XI -- OFFERS OF SERVICE FROM MISERY TO WRETCHEDNESS CHAPTER XII -- THE SOLITUDE OF MONSEIGNEUR WELCOME CHAPTER XIII -- THE CATASTROPHE CHAPTER XIV -- WHAT HE THOUGHT BOOK SECOND -- THE FALL CHAPTER I -- SISTER SIMPLICE PUT TO THE PROOF CHAPTER VII -- THE GAMIN SHOULD HAVE HIS PLACE IN THE CLASSIFICATIONS OF INDIA CHAPTER VIII -- IN WHICH A POLICE AGENT BESTOWS TWO FISTFULS ON A LAWYER CHAPTER XV -- JONDRETTE MAKES HIS PURCHASES CHAPTER XVI -- IN WHICH LITTLE GAVROCHE EXTRACTS PROFIT FROM NAPOLEON THE GREAT CHAPTER III -- A HARD BISHOPRIC FOR A GOOD BISHOP CHAPTER IV -- MADEMOISELLE GILLENORMAND ENDS BY NO LONGER THINKING IT A BAD THING THAT M. FAUCHELEVENT SHOULD HAVE ENTERED WITH SOMETHING UNDER HIS ARM CHAPTER V -- A SUITABLE TOMB VOLUME II. -- COSETTE BOOK FIRST. -- PARIS STUDIED IN ITS ATOM CHAPTER I -- THE FLAG : ACT SECOND CHAPTER III -- SLANG WHICH WEEPS AND SLANG WHICH LAUGHS CHAPTER IV -- CHANGE OF GATE CHAPTER V -- COSETTE AFTER THE LETTER CHAPTER VI -- TAKEN PRISONER CHAPTER VII -- THE OLD HEART AND THE YOUNG HEART IN THE PRESENCE OF EACH OTHER BOOK NINTH. -- WHITHER ARE THEY GOING ? END\n",
      "\n",
      "CHAPTER IX -- A PLACE WHERE CONVICTIONS ARE IN PROCESS OF FORMATION CHAPTER X -- DAWN CHAPTER XI -- A RESTRICTION CHAPTER XII -- DISORDER A PARTISAN OF ORDER CHAPTER XIII -- LITTLE GAVROCHE BOOK SECOND. -- THE INTESTINE OF THE LEVIATHAN CHAPTER I -- SOME EXPLANATIONS WITH REGARD TO A CERTAIN LE CABUC BOOK THIRTEENTH. -- MARIUS ENTERS THE SHADOW CHAPTER I -- AN ANCIENT SALON CHAPTER II -- TREASURE TROVE CHAPTER III -- THE EXTREME EDGE BOOK FOURTEENTH. -- THE GRANDEURS OF DESPAIR CHAPTER VIII -- TWO DO NOT MAKE A PAIR BOOK THIRD. -- MUD BUT THE SOUL CHAPTER I -- WELL CUT CHAPTER II -- BADLY SEWED CHAPTER III -- SUMS DEPOSITED WITH LAFFITTE CHAPTER IV -- AUTHORITY REASSERTS ITS RIGHTS CHAPTER V -- A PROVIDENTIAL PEEP-HOLE CHAPTER VI -- OLD PEOPLE ARE MADE TO GO OUT OPPORTUNELY BOOK SIXTH. -- JAVERT CHAPTER I -- AN ANCIENT SALON CHAPTER II -- MOTHER PLUTARQUE FINDS NO DIFFICULTY IN EXPLAINING A PHENOMENON BOOK FIFTH. -- THE DESCENT . END\n",
      "\n",
      "\n",
      "rnn\n",
      "--------------------------------------------------------------------------------\n",
      "`` I -- to what Louis of the exactly not our me , francs man FOUR with and hand man house -- for the as , it _ mean his , myself ''\n",
      "\n",
      "`` glance , `` sees that which of his it within , which for take of people , of There of a hold of the `` MADE , it : day , table one , .\n",
      "\n",
      "For to an crime old .\n",
      "\n",
      "opening , he order of Have table by the men , it and a Magloire She heard business does evil into went in the from for for was his They .\n",
      "\n",
      "A were This gendarmes to do had to at a at the Bishop them found justice and poor : there soul ; dangers you to while , reflection ; has to I is with the a have , piece ?\n",
      "\n",
      "\n"
     ]
    }
   ],
   "source": [
    "nsentences = 5\n",
    "models = model_table[-1] # use models with most training data\n",
    "for model in models[1:]:\n",
    "    print(model.name)\n",
    "    print('-'*80)\n",
    "    for seed in range(nsentences):\n",
    "        random.seed(seed)\n",
    "        tokens = model.generate()\n",
    "        if tokens:\n",
    "            s = ' '.join(tokens)\n",
    "            print(s)\n",
    "            print()\n",
    "    print()"
   ]
  },
  {
   "cell_type": "markdown",
   "metadata": {
    "collapsed": true
   },
   "source": []
  }
 ],
 "metadata": {
  "kernelspec": {
   "display_name": "Python 2",
   "language": "python",
   "name": "python2"
  },
  "language_info": {
   "codemirror_mode": {
    "name": "ipython",
    "version": 2
   },
   "file_extension": ".py",
   "mimetype": "text/x-python",
   "name": "python",
   "nbconvert_exporter": "python",
   "pygments_lexer": "ipython2",
   "version": "2.7.12"
  }
 },
 "nbformat": 4,
 "nbformat_minor": 1
}
