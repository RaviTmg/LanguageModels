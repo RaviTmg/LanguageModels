{
 "cells": [
  {
   "cell_type": "markdown",
   "metadata": {},
   "source": [
    "# Word Prediction using Recurrent Neural Networks (RNNs)\n",
    "## Experiment 2016-12-23\n",
    "\n",
    "Loop over training size, plot learning curves. "
   ]
  },
  {
   "cell_type": "markdown",
   "metadata": {},
   "source": [
    "### Table of Contents"
   ]
  },
  {
   "cell_type": "markdown",
   "metadata": {},
   "source": [
    "1. Prepare Data\n",
    "2. Explore Data\n",
    "3. Analyze Models\n",
    "4. Generate Text"
   ]
  },
  {
   "cell_type": "markdown",
   "metadata": {},
   "source": [
    "## Imports"
   ]
  },
  {
   "cell_type": "code",
   "execution_count": 95,
   "metadata": {
    "collapsed": true
   },
   "outputs": [],
   "source": [
    "# import python modules\n",
    "from __future__ import print_function, division\n",
    "import os.path\n",
    "import random\n",
    "import pandas as pd\n",
    "import matplotlib.pyplot as plt\n",
    "%matplotlib inline\n",
    "from nltk import tokenize"
   ]
  },
  {
   "cell_type": "code",
   "execution_count": 96,
   "metadata": {
    "collapsed": false
   },
   "outputs": [
    {
     "name": "stdout",
     "output_type": "stream",
     "text": [
      "importing wp (and nltk)...\n",
      "done\n"
     ]
    }
   ],
   "source": [
    "# import wp modules (can be slow)\n",
    "import sys; sys.path.append('../../src')\n",
    "print('importing wp (and nltk)...')\n",
    "import wp\n",
    "print('done')"
   ]
  },
  {
   "cell_type": "code",
   "execution_count": 97,
   "metadata": {
    "collapsed": false
   },
   "outputs": [
    {
     "data": {
      "text/plain": [
       "<module 'wp.analyze' from '../../src\\wp\\analyze.pyc'>"
      ]
     },
     "execution_count": 97,
     "metadata": {},
     "output_type": "execute_result"
    }
   ],
   "source": [
    "# reload wp modules in case changed (for development purposes)\n",
    "reload(wp)\n",
    "reload(wp.data)\n",
    "reload(wp.util)\n",
    "reload(wp.model)\n",
    "reload(wp.ngram)\n",
    "reload(wp.rnn)\n",
    "reload(wp.analyze)"
   ]
  },
  {
   "cell_type": "markdown",
   "metadata": {},
   "source": [
    "## Initialize"
   ]
  },
  {
   "cell_type": "code",
   "execution_count": 98,
   "metadata": {
    "collapsed": true
   },
   "outputs": [],
   "source": [
    "random.seed(0)"
   ]
  },
  {
   "cell_type": "markdown",
   "metadata": {},
   "source": [
    "## 1. Prepare Data"
   ]
  },
  {
   "cell_type": "markdown",
   "metadata": {},
   "source": [
    "Merge raw text files, convert to plain strings, split into train, validate, and test sets."
   ]
  },
  {
   "cell_type": "code",
   "execution_count": 99,
   "metadata": {
    "collapsed": false
   },
   "outputs": [],
   "source": [
    "# get wrapper around all data and tokenization\n",
    "data = wp.data.Data()"
   ]
  },
  {
   "cell_type": "markdown",
   "metadata": {},
   "source": [
    "Merge the raw data files into one and remove non-ascii characters (nltk complains otherwise)."
   ]
  },
  {
   "cell_type": "code",
   "execution_count": 100,
   "metadata": {
    "collapsed": false
   },
   "outputs": [
    {
     "name": "stdout",
     "output_type": "stream",
     "text": [
      "The raw files have already been merged.\n"
     ]
    }
   ],
   "source": [
    "data.merge()"
   ]
  },
  {
   "cell_type": "markdown",
   "metadata": {},
   "source": [
    "Split the merged file by sentences into train, validate, and test sets."
   ]
  },
  {
   "cell_type": "code",
   "execution_count": 101,
   "metadata": {
    "collapsed": false
   },
   "outputs": [
    {
     "name": "stdout",
     "output_type": "stream",
     "text": [
      "The merged file has already been split.\n"
     ]
    }
   ],
   "source": [
    "data.split()"
   ]
  },
  {
   "cell_type": "markdown",
   "metadata": {},
   "source": [
    "## 2. Explore Data"
   ]
  },
  {
   "cell_type": "markdown",
   "metadata": {},
   "source": [
    "### Show some samples of the text"
   ]
  },
  {
   "cell_type": "code",
   "execution_count": 102,
   "metadata": {
    "collapsed": false
   },
   "outputs": [
    {
     "name": "stdout",
     "output_type": "stream",
     "text": [
      "The Project Gutenberg EBook of Phantastes, by George MacDonald  This eBook is for the use of anyone anywhere at no cost and with almost no restrictions whatsoever.  You may copy it, give it away or re\n",
      "\n",
      "to be vanquished, retreated; but Wellington shouted, \"Up, Guards, and aim straight!\" The red regiment of English guards, lying flat behind the hedges, sprang up, a cloud of grape-shot riddled the tric\n",
      "\n",
      "xcept that geometrical point, the _I_; bringing everything back to the soul-atom; expanding everything in God, entangling all activity, from summit to base, in the obscurity of a dizzy mechanism, atta\n",
      "\n",
      "y, or to speak more accurately, that same evening, as Marius left the table, and was on the point of withdrawing to his study, having a case to look over, Basque handed him a letter saying: \"The perso\n",
      "\n",
      "ay evening in January, the lonely valley had been a desirable place to him; he had watched the green battlements in summer and winter weather, had seen the heaped mounds rising dimly amidst the drifti\n",
      "\n"
     ]
    }
   ],
   "source": [
    "s_merged = data.text('merged')\n",
    "nsamples = 5\n",
    "nchars = len(s_merged)\n",
    "nskip = int(nchars / nsamples)\n",
    "for i in range(nsamples):\n",
    "    s = s_merged[i*nskip:i*nskip+200]\n",
    "    s = s.replace('\\n', ' ').strip()\n",
    "    print(s)\n",
    "    print()"
   ]
  },
  {
   "cell_type": "markdown",
   "metadata": {},
   "source": [
    "### Show some text split into sentences\n",
    "\n",
    "This shows how the text was split up into the train, validate, and test sets."
   ]
  },
  {
   "cell_type": "code",
   "execution_count": 103,
   "metadata": {
    "collapsed": false
   },
   "outputs": [
    {
     "name": "stdout",
     "output_type": "stream",
     "text": [
      "And off they set, after some new mischief.\n",
      "\n",
      "Primrose is gone.\n",
      "\n",
      "But how then do you come to live here?\n",
      "\n",
      "He looked up, and lo!\n",
      "\n",
      "It contained many wondrous tales of Fairy Land, and olden times, and the Knights of King Arthurs table.\n"
     ]
    }
   ],
   "source": [
    "# we'll just look at the first 50k characters, because parsing sentences is slow\n",
    "sentences = data.sentences('merged', 50000)\n",
    "random.seed(0)\n",
    "samples = random.sample(sentences, 5)\n",
    "print('\\n\\n'.join(samples))"
   ]
  },
  {
   "cell_type": "markdown",
   "metadata": {},
   "source": [
    "### Show the text split into tokens\n",
    "\n",
    "Note that punctuation marks are treated as separate tokens."
   ]
  },
  {
   "cell_type": "code",
   "execution_count": 104,
   "metadata": {
    "collapsed": false,
    "scrolled": true
   },
   "outputs": [
    {
     "name": "stdout",
     "output_type": "stream",
     "text": [
      "ntokens 10785\n",
      "['off', 'with', 'you', '!', 'END', 'and', 'swing', 'alone', '.', 'END', 'no', 'one', 'will', 'laugh', 'with', 'you', '.', 'END', 'no', ',', 'not', 'one', '.', 'END', 'now', 'let', 'us', 'moan', '.', 'END', 'and', 'cover', 'her', 'oer', '.', 'END', 'primrose', 'is', 'gone', '.', 'END', 'all', 'but', 'the', 'flower', '.', 'END', 'here', 'is', 'a', 'leaf', '.', 'END', 'lay', 'her', 'upon', 'it', '.', 'END', 'follow', 'in', 'grief', '.', 'END', 'pocket', 'has', 'done', 'it', '.', 'END', 'deeper', ',', 'poor', 'creature', '!', 'END', 'winter', 'may', 'come', '.', 'END', 'he', 'can', 'not', 'reach', 'her', '--', 'that', 'is', 'a', 'hum', '.', 'END', 'she', 'is', 'buried', ',', 'the', 'beauty', '!']\n"
     ]
    }
   ],
   "source": [
    "tokens = data.tokens('merged', 50000) # look at first 50k characters\n",
    "print('ntokens',len(tokens))\n",
    "print(tokens[8000:8100])"
   ]
  },
  {
   "cell_type": "markdown",
   "metadata": {},
   "source": [
    "## 3. Analyze Models\n",
    "\n",
    "Train models on the training tokens and test them on the test tokens."
   ]
  },
  {
   "cell_type": "code",
   "execution_count": 105,
   "metadata": {
    "collapsed": true
   },
   "outputs": [],
   "source": [
    "# define models to test\n",
    "modelspecs = [\n",
    "    [wp.ngram.NgramModel, {'n':1}],\n",
    "    [wp.ngram.NgramModel, {'n':2}],\n",
    "    [wp.ngram.NgramModel, {'n':3}],\n",
    "    [wp.ngram.NgramModel, {'n':4}],\n",
    "#    [wp.rnn.RnnModel, {}],\n",
    "]"
   ]
  },
  {
   "cell_type": "code",
   "execution_count": 106,
   "metadata": {
    "collapsed": false
   },
   "outputs": [
    {
     "name": "stdout",
     "output_type": "stream",
     "text": [
      "ntraining_chars 1000\n",
      "create model object\n",
      "load model\n",
      "create model object\n",
      "load model\n",
      "create model object\n",
      "load model\n",
      "create model object\n",
      "load model\n",
      "get complete stream of test tokens, nchars=1000\n",
      "get tuples, n=1\n",
      "n-gram (n=1): accuracy = nright/total = 18/197 = 0.091371\n",
      "get tuples, n=2\n",
      "n-gram (n=2): accuracy = nright/total = 15/196 = 0.076531\n",
      "get tuples, n=3\n",
      "n-gram (n=3): accuracy = nright/total = 0/195 = 0.000000\n",
      "get tuples, n=4\n",
      "n-gram (n=4): accuracy = nright/total = 0/194 = 0.000000\n",
      "\n",
      "ntraining_chars 10000\n",
      "create model object\n",
      "load model\n",
      "create model object\n",
      "load model\n",
      "create model object\n",
      "load model\n",
      "create model object\n",
      "load model\n",
      "get complete stream of test tokens, nchars=10000\n",
      "get tuples, n=1\n",
      "n-gram (n=1): accuracy = nright/total = 185/1001 = 0.184815\n",
      "get tuples, n=2\n",
      "n-gram (n=2): accuracy = nright/total = 157/1001 = 0.156843\n",
      "get tuples, n=3\n",
      "n-gram (n=3): accuracy = nright/total = 31/1001 = 0.030969\n",
      "get tuples, n=4\n",
      "n-gram (n=4): accuracy = nright/total = 14/1001 = 0.013986\n",
      "\n",
      "ntraining_chars 100000\n",
      "create model object\n",
      "load model\n",
      "create model object\n",
      "load model\n",
      "create model object\n",
      "load model\n",
      "create model object\n",
      "load model\n",
      "get complete stream of test tokens, nchars=100000\n",
      "get tuples, n=1\n",
      "n-gram (n=1): accuracy = nright/total = 185/1001 = 0.184815\n",
      "get tuples, n=2\n",
      "n-gram (n=2): accuracy = nright/total = 239/1001 = 0.238761\n",
      "get tuples, n=3\n",
      "n-gram (n=3): accuracy = nright/total = 115/1001 = 0.114885\n",
      "get tuples, n=4\n",
      "n-gram (n=4): accuracy = nright/total = 39/1001 = 0.038961\n",
      "\n"
     ]
    }
   ],
   "source": [
    "# if output table already exists, skip this step\n",
    "#try:\n",
    "#    rows\n",
    "#except:\n",
    "if 1:\n",
    "    modelfolder = '../../data/models'\n",
    "    #. should be ntraining_tokens\n",
    "    #nchars_list = (1000,10000,100000,1000000,6000000)\n",
    "    nchars_list = (1000,10000,100000)\n",
    "    rows = []\n",
    "    npredictions_max = 1000\n",
    "    k = 3 # predict top k tokens\n",
    "    for nchars in nchars_list:\n",
    "        print('ntraining_chars', nchars)\n",
    "        models = wp.analyze.init_models(modelspecs, modelfolder, data, nchars)\n",
    "        results = wp.analyze.test_models(models, data, npredictions_max, k, nchars)\n",
    "        print()\n",
    "        row = [nchars] + results\n",
    "        rows.append(row)"
   ]
  },
  {
   "cell_type": "code",
   "execution_count": 107,
   "metadata": {
    "collapsed": false,
    "scrolled": true
   },
   "outputs": [
    {
     "data": {
      "text/html": [
       "<div>\n",
       "<table border=\"1\" class=\"dataframe\">\n",
       "  <thead>\n",
       "    <tr style=\"text-align: right;\">\n",
       "      <th></th>\n",
       "      <th>nchars</th>\n",
       "      <th>n-gram (n=1)</th>\n",
       "      <th>n-gram (n=2)</th>\n",
       "      <th>n-gram (n=3)</th>\n",
       "      <th>n-gram (n=4)</th>\n",
       "    </tr>\n",
       "  </thead>\n",
       "  <tbody>\n",
       "    <tr>\n",
       "      <th>0</th>\n",
       "      <td>1000</td>\n",
       "      <td>0.091371</td>\n",
       "      <td>0.076531</td>\n",
       "      <td>0.000000</td>\n",
       "      <td>0.000000</td>\n",
       "    </tr>\n",
       "    <tr>\n",
       "      <th>1</th>\n",
       "      <td>10000</td>\n",
       "      <td>0.184815</td>\n",
       "      <td>0.156843</td>\n",
       "      <td>0.030969</td>\n",
       "      <td>0.013986</td>\n",
       "    </tr>\n",
       "    <tr>\n",
       "      <th>2</th>\n",
       "      <td>100000</td>\n",
       "      <td>0.184815</td>\n",
       "      <td>0.238761</td>\n",
       "      <td>0.114885</td>\n",
       "      <td>0.038961</td>\n",
       "    </tr>\n",
       "  </tbody>\n",
       "</table>\n",
       "</div>"
      ],
      "text/plain": [
       "   nchars  n-gram (n=1)  n-gram (n=2)  n-gram (n=3)  n-gram (n=4)\n",
       "0    1000      0.091371      0.076531      0.000000      0.000000\n",
       "1   10000      0.184815      0.156843      0.030969      0.013986\n",
       "2  100000      0.184815      0.238761      0.114885      0.038961"
      ]
     },
     "execution_count": 107,
     "metadata": {},
     "output_type": "execute_result"
    }
   ],
   "source": [
    "cols = ['nchars'] + [model.name for model in models]\n",
    "df = pd.DataFrame(rows, columns=cols)\n",
    "df"
   ]
  },
  {
   "cell_type": "code",
   "execution_count": 108,
   "metadata": {
    "collapsed": false
   },
   "outputs": [
    {
     "data": {
      "text/html": [
       "<div>\n",
       "<table border=\"1\" class=\"dataframe\">\n",
       "  <thead>\n",
       "    <tr style=\"text-align: right;\">\n",
       "      <th></th>\n",
       "      <th>1000</th>\n",
       "      <th>10000</th>\n",
       "      <th>100000</th>\n",
       "    </tr>\n",
       "  </thead>\n",
       "  <tbody>\n",
       "    <tr>\n",
       "      <th>n-gram (n=1)</th>\n",
       "      <td>0.091371</td>\n",
       "      <td>0.184815</td>\n",
       "      <td>0.184815</td>\n",
       "    </tr>\n",
       "    <tr>\n",
       "      <th>n-gram (n=2)</th>\n",
       "      <td>0.076531</td>\n",
       "      <td>0.156843</td>\n",
       "      <td>0.238761</td>\n",
       "    </tr>\n",
       "    <tr>\n",
       "      <th>n-gram (n=3)</th>\n",
       "      <td>0.000000</td>\n",
       "      <td>0.030969</td>\n",
       "      <td>0.114885</td>\n",
       "    </tr>\n",
       "    <tr>\n",
       "      <th>n-gram (n=4)</th>\n",
       "      <td>0.000000</td>\n",
       "      <td>0.013986</td>\n",
       "      <td>0.038961</td>\n",
       "    </tr>\n",
       "  </tbody>\n",
       "</table>\n",
       "</div>"
      ],
      "text/plain": [
       "                1000      10000     100000\n",
       "n-gram (n=1)  0.091371  0.184815  0.184815\n",
       "n-gram (n=2)  0.076531  0.156843  0.238761\n",
       "n-gram (n=3)  0.000000  0.030969  0.114885\n",
       "n-gram (n=4)  0.000000  0.013986  0.038961"
      ]
     },
     "execution_count": 108,
     "metadata": {},
     "output_type": "execute_result"
    }
   ],
   "source": [
    "dft = df.transpose()\n",
    "dft.columns = nchars_list\n",
    "dft2 = dft.drop('nchars',axis=0)\n",
    "dft2"
   ]
  },
  {
   "cell_type": "code",
   "execution_count": 109,
   "metadata": {
    "collapsed": false
   },
   "outputs": [
    {
     "data": {
      "image/png": "[encoded data removed]",
      "text/plain": [
       "<matplotlib.figure.Figure at 0x1416fd68>"
      ]
     },
     "metadata": {},
     "output_type": "display_data"
    }
   ],
   "source": [
    "plt.plot(dft2.columns, dft2.ix[0])\n",
    "plt.plot(dft2.columns, dft2.ix[1])\n",
    "plt.plot(dft2.columns, dft2.ix[2])\n",
    "plt.plot(dft2.columns, dft2.ix[3])\n",
    "#plt.legend(loc='best')\n",
    "plt.legend(loc=(1.1,0.5))\n",
    "plt.xscale('log')\n",
    "plt.xlabel('Training set size (chars)')\n",
    "plt.ylabel('Accuracy')\n",
    "plt.show()"
   ]
  },
  {
   "cell_type": "markdown",
   "metadata": {},
   "source": [
    "## 4. Generate Text"
   ]
  },
  {
   "cell_type": "code",
   "execution_count": 110,
   "metadata": {
    "collapsed": false
   },
   "outputs": [
    {
     "name": "stdout",
     "output_type": "stream",
     "text": [
      "n-gram (n=1)\n",
      "; fallen END\n",
      "\n",
      "and ; discover the , were at postponement said my alder first too whatsoever than a the i who give my , i not if END\n",
      "\n",
      "i i went came sent a to was of of on . quite END\n",
      "\n",
      "the , nearly of shroud wisdom projection sensation the the block its watered many as . with something , replied to diligently delicate of recollect caused this behind tried accompanied recall frame END\n",
      "\n",
      "the she END\n",
      "\n",
      "\n",
      "n-gram (n=2)\n",
      "i will you would see . END\n",
      "\n",
      "now i will perhaps , though she deserved it shot out of the child , the lamp . END\n",
      "\n",
      "the lovely story of the same time , in a long search of little white marble basin , though of winds and just looked up the mouth of what danger of alabaster enclosing the gathering around the immediately began to grant or two or she comforted him to her feet . END\n",
      "\n",
      "for them , in a vague and found his blows recalled as well , kept his countenance , said she took a glory of my human world , mother is none . END\n",
      "\n",
      "for soon sank with tears . END\n",
      "\n",
      "\n",
      "n-gram (n=3)\n",
      "how , i saw was this . END\n",
      "\n",
      "around me . END\n",
      "\n",
      "these , as i suppose your six-foot lordship does not feel altogether insignificant , though ; for yesterday , at every turn and every ledge and projection crowded with little faces , which the lady of last years leaves that lay like a drawing-room young lady ) , knocked him heels-over-head as he ? END\n",
      "\n",
      "she felt the sigh , for a storm was brewing in the clear light of the form which had something in it always . END\n",
      "\n",
      "did i ? END\n",
      "\n",
      "\n",
      "n-gram (n=4)\n",
      "how , i do not know . END\n",
      "\n",
      "around me was a girdle of fresh beech-leaves . END\n",
      "\n",
      "these , however , are the fairies of the garden . END\n",
      "\n",
      "she returned . END\n",
      "\n",
      "did i ? END\n",
      "\n",
      "\n"
     ]
    }
   ],
   "source": [
    "nsentences = 5\n",
    "for model in models:\n",
    "    print(model.name)\n",
    "    for seed in range(nsentences):\n",
    "        random.seed(seed)\n",
    "        tokens = model.generate()\n",
    "        if tokens:\n",
    "            s = ' '.join(tokens)\n",
    "            print(s)\n",
    "            print()\n",
    "    print()"
   ]
  },
  {
   "cell_type": "markdown",
   "metadata": {
    "collapsed": true
   },
   "source": []
  }
 ],
 "metadata": {
  "kernelspec": {
   "display_name": "Python 2",
   "language": "python",
   "name": "python2"
  },
  "language_info": {
   "codemirror_mode": {
    "name": "ipython",
    "version": 2
   },
   "file_extension": ".py",
   "mimetype": "text/x-python",
   "name": "python",
   "nbconvert_exporter": "python",
   "pygments_lexer": "ipython2",
   "version": "2.7.12"
  }
 },
 "nbformat": 4,
 "nbformat_minor": 1
}
