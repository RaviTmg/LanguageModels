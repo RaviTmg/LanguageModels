{
 "cells": [
  {
   "cell_type": "markdown",
   "metadata": {},
   "source": [
    "# Word Prediction using Recurrent Neural Networks (RNNs)\n",
    "## Experiment 2016-12-23\n",
    "\n",
    "Loop over training size, plot learning curves. "
   ]
  },
  {
   "cell_type": "markdown",
   "metadata": {},
   "source": [
    "### Table of Contents"
   ]
  },
  {
   "cell_type": "markdown",
   "metadata": {},
   "source": [
    "1. Prepare Data\n",
    "2. Explore Data\n",
    "3. Analyze Models\n",
    "4. Generate Text"
   ]
  },
  {
   "cell_type": "markdown",
   "metadata": {},
   "source": [
    "## Imports"
   ]
  },
  {
   "cell_type": "code",
   "execution_count": 76,
   "metadata": {
    "collapsed": true
   },
   "outputs": [],
   "source": [
    "# import python modules\n",
    "from __future__ import print_function, division\n",
    "import os.path\n",
    "import random\n",
    "import pandas as pd\n",
    "import matplotlib.pyplot as plt\n",
    "%matplotlib inline\n",
    "from nltk import tokenize"
   ]
  },
  {
   "cell_type": "code",
   "execution_count": 77,
   "metadata": {
    "collapsed": false
   },
   "outputs": [
    {
     "name": "stdout",
     "output_type": "stream",
     "text": [
      "importing wp (and nltk)...\n",
      "done\n"
     ]
    }
   ],
   "source": [
    "# import wp modules (can be slow)\n",
    "import sys; sys.path.append('../../src')\n",
    "print('importing wp (and nltk)...')\n",
    "import wp\n",
    "print('done')"
   ]
  },
  {
   "cell_type": "code",
   "execution_count": 78,
   "metadata": {
    "collapsed": false
   },
   "outputs": [
    {
     "data": {
      "text/plain": [
       "<module 'wp.analyze' from '../../src\\wp\\analyze.pyc'>"
      ]
     },
     "execution_count": 78,
     "metadata": {},
     "output_type": "execute_result"
    }
   ],
   "source": [
    "# reload wp modules in case changed (for development purposes)\n",
    "reload(wp)\n",
    "reload(wp.data)\n",
    "reload(wp.ngram)\n",
    "reload(wp.rnn)\n",
    "reload(wp.analyze)"
   ]
  },
  {
   "cell_type": "markdown",
   "metadata": {},
   "source": [
    "## Initialize"
   ]
  },
  {
   "cell_type": "code",
   "execution_count": 79,
   "metadata": {
    "collapsed": true
   },
   "outputs": [],
   "source": [
    "random.seed(0)"
   ]
  },
  {
   "cell_type": "markdown",
   "metadata": {},
   "source": [
    "## 1. Prepare Data"
   ]
  },
  {
   "cell_type": "markdown",
   "metadata": {},
   "source": [
    "Merge raw text files, convert to plain strings, split into train, validate, and test sets."
   ]
  },
  {
   "cell_type": "code",
   "execution_count": 80,
   "metadata": {
    "collapsed": false
   },
   "outputs": [],
   "source": [
    "# get wrapper around all data and tokenization\n",
    "data = wp.data.Data()"
   ]
  },
  {
   "cell_type": "markdown",
   "metadata": {},
   "source": [
    "Merge the raw data files into one and remove non-ascii characters (nltk complains otherwise)."
   ]
  },
  {
   "cell_type": "code",
   "execution_count": 81,
   "metadata": {
    "collapsed": false
   },
   "outputs": [
    {
     "name": "stdout",
     "output_type": "stream",
     "text": [
      "The raw files have already been merged.\n"
     ]
    }
   ],
   "source": [
    "data.merge()"
   ]
  },
  {
   "cell_type": "markdown",
   "metadata": {},
   "source": [
    "Split the merged file by sentences into train, validate, and test sets."
   ]
  },
  {
   "cell_type": "code",
   "execution_count": 82,
   "metadata": {
    "collapsed": false
   },
   "outputs": [
    {
     "name": "stdout",
     "output_type": "stream",
     "text": [
      "The merged file has already been split.\n"
     ]
    }
   ],
   "source": [
    "data.split()"
   ]
  },
  {
   "cell_type": "markdown",
   "metadata": {},
   "source": [
    "## 2. Explore Data"
   ]
  },
  {
   "cell_type": "markdown",
   "metadata": {},
   "source": [
    "### Show some samples of the text"
   ]
  },
  {
   "cell_type": "code",
   "execution_count": 83,
   "metadata": {
    "collapsed": false
   },
   "outputs": [
    {
     "name": "stdout",
     "output_type": "stream",
     "text": [
      "The Project Gutenberg EBook of Phantastes, by George MacDonald  This eBook is for the use of anyone anywhere at no cost and with almost no restrictions whatsoever.  You may copy it, give it away or re\n",
      "\n",
      "to be vanquished, retreated; but Wellington shouted, \"Up, Guards, and aim straight!\" The red regiment of English guards, lying flat behind the hedges, sprang up, a cloud of grape-shot riddled the tric\n",
      "\n",
      "xcept that geometrical point, the _I_; bringing everything back to the soul-atom; expanding everything in God, entangling all activity, from summit to base, in the obscurity of a dizzy mechanism, atta\n",
      "\n",
      "y, or to speak more accurately, that same evening, as Marius left the table, and was on the point of withdrawing to his study, having a case to look over, Basque handed him a letter saying: \"The perso\n",
      "\n",
      "ay evening in January, the lonely valley had been a desirable place to him; he had watched the green battlements in summer and winter weather, had seen the heaped mounds rising dimly amidst the drifti\n",
      "\n"
     ]
    }
   ],
   "source": [
    "s_merged = data.text('merged')\n",
    "nsamples = 5\n",
    "nchars = len(s_merged)\n",
    "nskip = int(nchars / nsamples)\n",
    "for i in range(nsamples):\n",
    "    s = s_merged[i*nskip:i*nskip+200]\n",
    "    s = s.replace('\\n', ' ').strip()\n",
    "    print(s)\n",
    "    print()"
   ]
  },
  {
   "cell_type": "markdown",
   "metadata": {},
   "source": [
    "### Show some text split into sentences\n",
    "\n",
    "This shows how the text was split up into the train, validate, and test sets."
   ]
  },
  {
   "cell_type": "code",
   "execution_count": 84,
   "metadata": {
    "collapsed": false
   },
   "outputs": [
    {
     "name": "stdout",
     "output_type": "stream",
     "text": [
      "And off they set, after some new mischief.\n",
      "\n",
      "Primrose is gone.\n",
      "\n",
      "But how then do you come to live here?\n",
      "\n",
      "He looked up, and lo!\n",
      "\n",
      "It contained many wondrous tales of Fairy Land, and olden times, and the Knights of King Arthurs table.\n"
     ]
    }
   ],
   "source": [
    "# we'll just look at the first 50k characters, because parsing sentences is slow\n",
    "sentences = data.sentences('merged', 50000)\n",
    "random.seed(0)\n",
    "samples = random.sample(sentences, 5)\n",
    "print('\\n\\n'.join(samples))"
   ]
  },
  {
   "cell_type": "markdown",
   "metadata": {},
   "source": [
    "### Show the text split into tokens\n",
    "\n",
    "Note that punctuation marks are treated as separate tokens."
   ]
  },
  {
   "cell_type": "code",
   "execution_count": 85,
   "metadata": {
    "collapsed": false,
    "scrolled": true
   },
   "outputs": [
    {
     "name": "stdout",
     "output_type": "stream",
     "text": [
      "ntokens 10369\n",
      "[';', 'as', 'if', 'we', 'were', 'not', 'good', 'enough', 'to', 'look', 'at', 'her', ',', 'and', 'she', 'was', ',', 'the', 'proud', 'thing', '!', '--', 'served', 'her', 'right', '!', 'Oh', ',', 'Pocket', ',', 'Pocket', ',', 'said', 'I', ';', 'but', 'by', 'this', 'time', 'the', 'party', 'which', 'had', 'gone', 'towards', 'the', 'house', ',', 'rushed', 'out', 'again', ',', 'shouting', 'and', 'screaming', 'with', 'laughter', '.', 'Half', 'of', 'them', 'were', 'on', 'the', 'cats', 'back', ',', 'and', 'half', 'held', 'on', 'by', 'her', 'fur', 'and', 'tail', ',', 'or', 'ran', 'beside', 'her', ';', 'till', ',', 'more', 'coming', 'to', 'their', 'help', ',', 'the', 'furious', 'cat', 'was', 'held', 'fast', ';', 'and', 'they', 'proceeded']\n"
     ]
    }
   ],
   "source": [
    "tokens = data.tokens('merged', 50000) # look at first 50k characters\n",
    "print('ntokens',len(tokens))\n",
    "print(tokens[8000:8100])"
   ]
  },
  {
   "cell_type": "markdown",
   "metadata": {},
   "source": [
    "## 3. Analyze Models\n",
    "\n",
    "Train models on the training tokens and test them on the test tokens."
   ]
  },
  {
   "cell_type": "code",
   "execution_count": 86,
   "metadata": {
    "collapsed": true
   },
   "outputs": [],
   "source": [
    "# define models to test\n",
    "model_list = [\n",
    "    [wp.ngram.NgramModel, {'n':2}],\n",
    "    [wp.ngram.NgramModel, {'n':3}],\n",
    "    [wp.ngram.NgramModel, {'n':4}],\n",
    "    #[wp.rnn.RnnModel, {}],\n",
    "]"
   ]
  },
  {
   "cell_type": "code",
   "execution_count": 87,
   "metadata": {
    "collapsed": false
   },
   "outputs": [
    {
     "name": "stdout",
     "output_type": "stream",
     "text": [
      "ntraining_chars 1000\n",
      "create model object\n",
      "create model object\n",
      "create model object\n",
      "train model\n",
      "get ngrams, n=2\n",
      "add ngrams to model\n",
      "save model\n",
      "train model\n",
      "get ngrams, n=3\n",
      "add ngrams to model\n",
      "save model\n",
      "train model\n",
      "get ngrams, n=4\n",
      "add ngrams to model\n",
      "save model\n",
      "done\n",
      "n-gram (n=2)\n",
      "accuracy = nright/total = 0/180 = 0.000000\n",
      "\n",
      "n-gram (n=3)\n",
      "accuracy = nright/total = 0/179 = 0.000000\n",
      "\n",
      "n-gram (n=4)\n",
      "accuracy = nright/total = 0/178 = 0.000000\n",
      "\n",
      "\n",
      "ntraining_chars 10000\n",
      "create model object\n",
      "create model object\n",
      "create model object\n",
      "train model\n",
      "get ngrams, n=2\n",
      "add ngrams to model\n",
      "save model\n",
      "train model\n",
      "get ngrams, n=3\n",
      "add ngrams to model\n",
      "save model\n",
      "train model\n",
      "get ngrams, n=4\n",
      "add ngrams to model\n",
      "save model\n",
      "done\n",
      "n-gram (n=2)\n",
      "accuracy = nright/total = 97/1001 = 0.096903\n",
      "\n",
      "n-gram (n=3)\n",
      "accuracy = nright/total = 13/1001 = 0.012987\n",
      "\n",
      "n-gram (n=4)\n",
      "accuracy = nright/total = 3/1001 = 0.002997\n",
      "\n",
      "\n",
      "ntraining_chars 100000\n",
      "create model object\n",
      "create model object\n",
      "create model object\n",
      "train model\n",
      "get ngrams, n=2\n",
      "add ngrams to model\n",
      "save model\n",
      "train model\n",
      "get ngrams, n=3\n",
      "add ngrams to model\n",
      "save model\n",
      "train model\n",
      "get ngrams, n=4\n",
      "add ngrams to model\n",
      "save model\n",
      "done\n",
      "n-gram (n=2)\n",
      "accuracy = nright/total = 191/1001 = 0.190809\n",
      "\n",
      "n-gram (n=3)\n",
      "accuracy = nright/total = 86/1001 = 0.085914\n",
      "\n",
      "n-gram (n=4)\n",
      "accuracy = nright/total = 14/1001 = 0.013986\n",
      "\n",
      "\n",
      "ntraining_chars 1000000\n",
      "create model object\n",
      "create model object\n",
      "create model object\n",
      "train model\n",
      "get ngrams, n=2\n",
      "add ngrams to model\n",
      "save model\n",
      "train model\n",
      "get ngrams, n=3\n",
      "add ngrams to model\n",
      "save model\n",
      "train model\n",
      "get ngrams, n=4\n",
      "add ngrams to model\n",
      "save model\n",
      "done\n",
      "n-gram (n=2)\n",
      "accuracy = nright/total = 234/1001 = 0.233766\n",
      "\n",
      "n-gram (n=3)\n",
      "accuracy = nright/total = 134/1001 = 0.133866\n",
      "\n",
      "n-gram (n=4)\n",
      "accuracy = nright/total = 36/1001 = 0.035964\n",
      "\n",
      "\n",
      "ntraining_chars 6000000\n",
      "create model object\n",
      "create model object\n",
      "create model object\n",
      "train model\n",
      "get ngrams, n=2\n",
      "add ngrams to model\n",
      "save model\n",
      "train model\n",
      "get ngrams, n=3\n",
      "add ngrams to model\n",
      "save model\n",
      "train model\n",
      "get ngrams, n=4\n",
      "add ngrams to model\n",
      "save model\n",
      "done\n",
      "n-gram (n=2)\n",
      "accuracy = nright/total = 239/1001 = 0.238761\n",
      "\n",
      "n-gram (n=3)\n",
      "accuracy = nright/total = 174/1001 = 0.173826\n",
      "\n",
      "n-gram (n=4)\n",
      "accuracy = nright/total = 53/1001 = 0.052947\n",
      "\n",
      "\n"
     ]
    }
   ],
   "source": [
    "# if output table already exists, skip this step\n",
    "#try:\n",
    "#    rows\n",
    "#except:\n",
    "if 1:\n",
    "    modelfolder = '../../models'\n",
    "    #. should be ntraining_tokens\n",
    "    nchars_list = (1000,10000,100000,1000000,6000000)\n",
    "    rows = []\n",
    "    npredictions_max = 1000\n",
    "    k = 3 # predict top k tokens\n",
    "    for nchars in nchars_list:\n",
    "        print('ntraining_chars', nchars)\n",
    "        #models = wp.analyze.train_models(model_list, data, nchars)\n",
    "        #models = wp.analyze.load_or_train_models(model_list, data, nchars)\n",
    "        models = wp.analyze.create_models(model_list, nchars, modelfolder)\n",
    "        models = wp.analyze.load_models(models)\n",
    "        models = wp.analyze.train_empty_models(models, data, nchars)\n",
    "        results = wp.analyze.test_models(models, data, npredictions_max, k, nchars)\n",
    "        print()\n",
    "        row = [nchars] + results\n",
    "        rows.append(row)"
   ]
  },
  {
   "cell_type": "code",
   "execution_count": 88,
   "metadata": {
    "collapsed": false,
    "scrolled": true
   },
   "outputs": [
    {
     "data": {
      "text/html": [
       "<div>\n",
       "<table border=\"1\" class=\"dataframe\">\n",
       "  <thead>\n",
       "    <tr style=\"text-align: right;\">\n",
       "      <th></th>\n",
       "      <th>nchars</th>\n",
       "      <th>n-gram (n=2)</th>\n",
       "      <th>n-gram (n=3)</th>\n",
       "      <th>n-gram (n=4)</th>\n",
       "    </tr>\n",
       "  </thead>\n",
       "  <tbody>\n",
       "    <tr>\n",
       "      <th>0</th>\n",
       "      <td>1000</td>\n",
       "      <td>0.000000</td>\n",
       "      <td>0.000000</td>\n",
       "      <td>0.000000</td>\n",
       "    </tr>\n",
       "    <tr>\n",
       "      <th>1</th>\n",
       "      <td>10000</td>\n",
       "      <td>0.096903</td>\n",
       "      <td>0.012987</td>\n",
       "      <td>0.002997</td>\n",
       "    </tr>\n",
       "    <tr>\n",
       "      <th>2</th>\n",
       "      <td>100000</td>\n",
       "      <td>0.190809</td>\n",
       "      <td>0.085914</td>\n",
       "      <td>0.013986</td>\n",
       "    </tr>\n",
       "    <tr>\n",
       "      <th>3</th>\n",
       "      <td>1000000</td>\n",
       "      <td>0.233766</td>\n",
       "      <td>0.133866</td>\n",
       "      <td>0.035964</td>\n",
       "    </tr>\n",
       "    <tr>\n",
       "      <th>4</th>\n",
       "      <td>6000000</td>\n",
       "      <td>0.238761</td>\n",
       "      <td>0.173826</td>\n",
       "      <td>0.052947</td>\n",
       "    </tr>\n",
       "  </tbody>\n",
       "</table>\n",
       "</div>"
      ],
      "text/plain": [
       "    nchars  n-gram (n=2)  n-gram (n=3)  n-gram (n=4)\n",
       "0     1000      0.000000      0.000000      0.000000\n",
       "1    10000      0.096903      0.012987      0.002997\n",
       "2   100000      0.190809      0.085914      0.013986\n",
       "3  1000000      0.233766      0.133866      0.035964\n",
       "4  6000000      0.238761      0.173826      0.052947"
      ]
     },
     "execution_count": 88,
     "metadata": {},
     "output_type": "execute_result"
    }
   ],
   "source": [
    "cols = ['nchars'] + [model.name for model in models]\n",
    "df = pd.DataFrame(rows, columns=cols)\n",
    "df"
   ]
  },
  {
   "cell_type": "code",
   "execution_count": 89,
   "metadata": {
    "collapsed": false
   },
   "outputs": [
    {
     "data": {
      "text/html": [
       "<div>\n",
       "<table border=\"1\" class=\"dataframe\">\n",
       "  <thead>\n",
       "    <tr style=\"text-align: right;\">\n",
       "      <th></th>\n",
       "      <th>1000</th>\n",
       "      <th>10000</th>\n",
       "      <th>100000</th>\n",
       "      <th>1000000</th>\n",
       "      <th>6000000</th>\n",
       "    </tr>\n",
       "  </thead>\n",
       "  <tbody>\n",
       "    <tr>\n",
       "      <th>n-gram (n=2)</th>\n",
       "      <td>0.0</td>\n",
       "      <td>0.096903</td>\n",
       "      <td>0.190809</td>\n",
       "      <td>0.233766</td>\n",
       "      <td>0.238761</td>\n",
       "    </tr>\n",
       "    <tr>\n",
       "      <th>n-gram (n=3)</th>\n",
       "      <td>0.0</td>\n",
       "      <td>0.012987</td>\n",
       "      <td>0.085914</td>\n",
       "      <td>0.133866</td>\n",
       "      <td>0.173826</td>\n",
       "    </tr>\n",
       "    <tr>\n",
       "      <th>n-gram (n=4)</th>\n",
       "      <td>0.0</td>\n",
       "      <td>0.002997</td>\n",
       "      <td>0.013986</td>\n",
       "      <td>0.035964</td>\n",
       "      <td>0.052947</td>\n",
       "    </tr>\n",
       "  </tbody>\n",
       "</table>\n",
       "</div>"
      ],
      "text/plain": [
       "              1000      10000     100000    1000000   6000000\n",
       "n-gram (n=2)      0.0  0.096903  0.190809  0.233766  0.238761\n",
       "n-gram (n=3)      0.0  0.012987  0.085914  0.133866  0.173826\n",
       "n-gram (n=4)      0.0  0.002997  0.013986  0.035964  0.052947"
      ]
     },
     "execution_count": 89,
     "metadata": {},
     "output_type": "execute_result"
    }
   ],
   "source": [
    "dft = df.transpose()\n",
    "dft.columns = nchars_list\n",
    "dft2 = dft.drop('nchars',axis=0)\n",
    "dft2"
   ]
  },
  {
   "cell_type": "code",
   "execution_count": 90,
   "metadata": {
    "collapsed": false
   },
   "outputs": [
    {
     "data": {
      "image/png": "[encoded data removed]",
      "text/plain": [
       "<matplotlib.figure.Figure at 0xcad40b8>"
      ]
     },
     "metadata": {},
     "output_type": "display_data"
    }
   ],
   "source": [
    "plt.plot(dft2.columns, dft2.ix[0])\n",
    "plt.plot(dft2.columns, dft2.ix[1])\n",
    "plt.plot(dft2.columns, dft2.ix[2])\n",
    "plt.legend(loc='best')\n",
    "plt.xscale('log')\n",
    "plt.xlabel('Training set size (chars)')\n",
    "plt.ylabel('Accuracy')\n",
    "plt.show()"
   ]
  },
  {
   "cell_type": "markdown",
   "metadata": {},
   "source": [
    "## 4. Generate Text"
   ]
  },
  {
   "cell_type": "code",
   "execution_count": 91,
   "metadata": {
    "collapsed": false
   },
   "outputs": [
    {
     "name": "stdout",
     "output_type": "stream",
     "text": [
      "n-gram (n=2)\n",
      "Not a sudden vibration in the gate , but in books . '' in search of society were shaped\n",
      "\n",
      "He was ordained that I fear you had to it was walking with all his march again ! ''\n",
      "\n",
      "And the old stockade . The mountain when it has been ! You told me you wish to take\n",
      "\n",
      "'' his sharp . What has to go round his bundle of silence . It seemed to this genius\n",
      "\n",
      "'' `` I remember is not there is the great excavation of the future there 's old sailors were\n",
      "\n",
      "What ! '' he had he recollected that he had but how sweet sleep . In less spongy soils\n",
      "\n",
      "Most people of the yellow frock-coat , and the street , and twenty refused to set . I introduced\n",
      "\n",
      "`` Bread . They would have penetrated to me they saw only their own notes of meditation ? ''\n",
      "\n",
      "'' he is the following him once found it is one . Jean Valjean had not to the phrase\n",
      "\n",
      "We are making so ignorant there ! So that reeked of the purpose of a child paused an antiphoner\n",
      "\n",
      "\n",
      "n-gram (n=3)\n",
      "North Inlet , on a solitary breakfast and went by with his ivy-staff , and the Bonapartes ? Had Napoleon\n",
      "\n",
      "Water . . . . . . . . '' A pile of stones , destined to weep . ``\n",
      "\n",
      "Clever ? O Love immortal , More than you think it would be of any occasion that presented itself .\n",
      "\n",
      "Drive it out to be told to Jean Valjean , my benefactor , '' interposed the Bishop of D --\n",
      "\n",
      "Burrows says it is , that he was the man was forced to move for fear of these humble and\n",
      "\n",
      "The person or entity that provided you with my blood if necessary , I do n't go on ! They\n",
      "\n",
      "LIKE SUMMER TEMPESTS CAME HIS TEARS XII . THE EBB-TIDE RUNS . . . . . . . . .\n",
      "\n",
      "Domum quoque Abbatialem fere totam restauravit : puteo in atrio ipsius effosso et lapidibus marmoreis pulchre caelatis exornato . Decessit\n",
      "\n",
      "Patience for a single point the insurgents withdrawing before him for years and years ago , and the sunlight seemed\n",
      "\n",
      "Terror had seized the purse , having some start and being unable to conjecture . The remarkable thing . At\n",
      "\n",
      "\n",
      "n-gram (n=4)\n",
      "North Inlet ? Why , there he was , resting lightly on his crutch , and looked out . First go\n",
      "\n",
      "Water . . . . . . . . '' He appeared to be engaged in making and that I remained\n",
      "\n",
      "Clever ? O , WERE all right , '' said Silver , `` it is more reasonable to suppose that a\n",
      "\n",
      "Drive it out better . The inundation of 1802 is one of my subordinates had done what I could say the\n",
      "\n",
      "Burrows says it 's to you , will let me go and leave the Auvergnat for the Monarchy . '' His\n",
      "\n",
      "The dull modern life was far away , if the occasion to become a bad woman at bottom . If I\n",
      "\n",
      "LIKE SUMMER TEMPESTS CAME HIS TEARS XII . THE RETURN OF ULYSSES When it began to strike him instantly , once\n",
      "\n",
      "Domum quoque Abbatialem fere totam restauravit : puteo in atrio ipsius effosso et lapidibus marmoreis pulchre caelatis exornato . Decessit autem\n",
      "\n",
      "Patience for a little tavern with a large dish of tarts upon it : -- `` What do you mean by\n",
      "\n",
      "Terror had seized on the whole day , with intervals of listening ; and the gipsy never grudged it him .\n",
      "\n",
      "\n"
     ]
    }
   ],
   "source": [
    "random.seed(0)\n",
    "k = 20 # number of words to generate per sequence\n",
    "nsequences = 10\n",
    "for model in models:\n",
    "    print(model.name)\n",
    "    for seed in range(nsequences):\n",
    "        random.seed(seed)\n",
    "        tokens = model.generate(k)\n",
    "        if tokens:\n",
    "            s = ' '.join(tokens)\n",
    "            print(s)\n",
    "            print()\n",
    "    print()"
   ]
  },
  {
   "cell_type": "markdown",
   "metadata": {
    "collapsed": true
   },
   "source": []
  }
 ],
 "metadata": {
  "kernelspec": {
   "display_name": "Python 2",
   "language": "python",
   "name": "python2"
  }
 },
 "nbformat": 4,
 "nbformat_minor": 1
}
