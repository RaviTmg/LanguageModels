{
 "cells": [
  {
   "cell_type": "markdown",
   "metadata": {},
   "source": [
    "# RNN\n",
    "\n",
    "Read texts, train an RNN and plot results\n",
    "\n",
    "Adapted from https://github.com/fchollet/keras/blob/master/examples/pretrained_word_embeddings.py\n"
   ]
  },
  {
   "cell_type": "markdown",
   "metadata": {},
   "source": [
    "## Set Parameters"
   ]
  },
  {
   "cell_type": "code",
   "execution_count": null,
   "metadata": {
    "collapsed": false
   },
   "outputs": [],
   "source": [
    "# set parameters\n",
    "\n",
    "NVOCAB = 10000\n",
    "EMBEDDING_DIM = 50\n",
    "NHIDDEN = EMBEDDING_DIM\n",
    "N = 10\n",
    "RNN_CLASS = SimpleRNN\n",
    "NEPOCHS = 10\n",
    "SAMPLES_PER_EPOCH = 500 #.more - there are 1million words, so at this rate would need 1000 epochs\n",
    "\n",
    "VALIDATION_SPLIT = 0.05\n",
    "TEST_SPLIT = 0.05\n",
    "TRAIN_SPLIT = (1 - VALIDATION_SPLIT - TEST_SPLIT)\n",
    "TOP_PREDICTIONS = 3 # top number of predictions to be considered for relevance score\n",
    "\n",
    "SEED = 0\n",
    "BASE_DIR = '..'\n",
    "TEXT_DIR = BASE_DIR + '/data/gutenbergs/1-raw' #. move to parentdir\n",
    "GLOVE_DIR = BASE_DIR + '/_vectors/glove.6B'\n",
    "GLOVE_FILE = GLOVE_DIR + '/glove.6B.%dd.txt' % EMBEDDING_DIM\n"
   ]
  },
  {
   "cell_type": "markdown",
   "metadata": {},
   "source": [
    "## Import"
   ]
  },
  {
   "cell_type": "code",
   "execution_count": null,
   "metadata": {
    "collapsed": false
   },
   "outputs": [],
   "source": [
    "# import python modules\n",
    "\n",
    "from __future__ import print_function, division\n",
    "import sys\n",
    "print(sys.version)\n",
    "import os\n",
    "import os.path\n",
    "import random\n",
    "import codecs\n",
    "import re"
   ]
  },
  {
   "cell_type": "code",
   "execution_count": null,
   "metadata": {
    "collapsed": false
   },
   "outputs": [],
   "source": [
    "# import libraries\n",
    "\n",
    "import numpy as np\n",
    "np.random.seed(SEED)\n",
    "import pandas as pd\n",
    "import matplotlib.pyplot as plt\n",
    "%matplotlib inline\n",
    "import seaborn as sns\n",
    "\n",
    "from nltk import tokenize\n",
    "from keras.preprocessing.text import Tokenizer\n",
    "#from keras.preprocessing.sequence import pad_sequences\n",
    "from keras.utils.np_utils import to_categorical\n",
    "from keras.layers import Dense, Activation, Dropout\n",
    "from keras.models import Model\n",
    "from keras.models import Sequential\n",
    "#from keras.models import load_model\n",
    "from keras.layers.embeddings import Embedding\n",
    "from keras.layers.recurrent import SimpleRNN, LSTM, GRU\n",
    "from keras.callbacks import EarlyStopping\n",
    "from keras.metrics import top_k_categorical_accuracy\n"
   ]
  },
  {
   "cell_type": "markdown",
   "metadata": {},
   "source": [
    "## Process Texts"
   ]
  },
  {
   "cell_type": "code",
   "execution_count": null,
   "metadata": {
    "collapsed": false
   },
   "outputs": [],
   "source": [
    "# read texts\n",
    "print('Reading texts')\n",
    "text = ''\n",
    "for filename in sorted(os.listdir(TEXT_DIR)):\n",
    "    filepath = TEXT_DIR +'/' + filename\n",
    "    print(filepath)\n",
    "    encoding = 'utf-8'\n",
    "    with codecs.open(filepath, 'r', encoding=encoding, errors='ignore') as f:\n",
    "        s = f.read()\n",
    "        s = s.replace('\\r\\n','\\n')\n",
    "        text += s\n",
    "print('done')"
   ]
  },
  {
   "cell_type": "code",
   "execution_count": null,
   "metadata": {
    "collapsed": false
   },
   "outputs": [],
   "source": [
    "# split text into paragraphs, shuffle, and recombine\n",
    "paragraphs = re.split(r\"\\n\\n+\", text)\n",
    "print(len(paragraphs)) # 22989\n",
    "random.shuffle(paragraphs)\n",
    "text = '\\n\\n'.join(paragraphs)\n",
    "del paragraphs\n",
    "text[:1000] # show sample text"
   ]
  },
  {
   "cell_type": "code",
   "execution_count": null,
   "metadata": {
    "collapsed": false
   },
   "outputs": [],
   "source": [
    "# tokenize text into word indexes\n",
    "texts = [text] # just one giant text\n",
    "tokenizer = Tokenizer(nb_words=NVOCAB)\n",
    "tokenizer.fit_on_texts(texts)\n",
    "sequences = tokenizer.texts_to_sequences(texts)\n",
    "sequence = sequences[0] \n",
    "nelements = len(sequence) \n",
    "sequence = np.array(sequence, dtype=np.int)\n",
    "print(nelements) # 1099744\n",
    "print(sequence[:100])"
   ]
  },
  {
   "cell_type": "code",
   "execution_count": null,
   "metadata": {
    "collapsed": false
   },
   "outputs": [],
   "source": [
    "word_index = tokenizer.word_index\n",
    "print('Found %s unique tokens.' % len(word_index))\n",
    "print('a:', word_index['a'])"
   ]
  },
  {
   "cell_type": "code",
   "execution_count": null,
   "metadata": {
    "collapsed": false
   },
   "outputs": [],
   "source": [
    "# clear some memory\n",
    "del text\n",
    "del texts"
   ]
  },
  {
   "cell_type": "markdown",
   "metadata": {},
   "source": [
    "## Get Embedding Matrix"
   ]
  },
  {
   "cell_type": "code",
   "execution_count": null,
   "metadata": {
    "collapsed": false
   },
   "outputs": [],
   "source": [
    "# get word vectors\n",
    "print('Reading word vectors...')\n",
    "word_vectors = {}\n",
    "with open(GLOVE_FILE, encoding='utf8') as f:\n",
    "    for line in f:\n",
    "        values = line.split()\n",
    "        word = values[0]\n",
    "        coefs = np.asarray(values[1:], dtype='float32')\n",
    "        word_vectors[word] = coefs\n",
    "print('Found %s word vectors.' % len(word_vectors))"
   ]
  },
  {
   "cell_type": "code",
   "execution_count": null,
   "metadata": {
    "collapsed": false
   },
   "outputs": [],
   "source": [
    "print('a:',word_vectors['a'])\n",
    "print(list(word_vectors.keys())[:10])"
   ]
  },
  {
   "cell_type": "code",
   "execution_count": null,
   "metadata": {
    "collapsed": false
   },
   "outputs": [],
   "source": [
    "# build embedding matrix of the top nvocab words\n",
    "nwords = min(NVOCAB, len(word_index))\n",
    "E = np.zeros((nwords + 1, EMBEDDING_DIM))\n",
    "for word, iword in word_index.items():\n",
    "    if iword > NVOCAB:\n",
    "        continue\n",
    "    word_vector = word_vectors.get(word)\n",
    "    # words not found in embedding index will be all zeros\n",
    "    if word_vector is not None:\n",
    "        E[iword] = word_vector"
   ]
  },
  {
   "cell_type": "code",
   "execution_count": null,
   "metadata": {
    "collapsed": false
   },
   "outputs": [],
   "source": [
    "print(len(E))\n",
    "print(E[:2])"
   ]
  },
  {
   "cell_type": "code",
   "execution_count": null,
   "metadata": {
    "collapsed": false
   },
   "outputs": [],
   "source": [
    "# clear some memory\n",
    "del word_vectors"
   ]
  },
  {
   "cell_type": "markdown",
   "metadata": {},
   "source": [
    "## Split Data"
   ]
  },
  {
   "cell_type": "code",
   "execution_count": null,
   "metadata": {
    "collapsed": false
   },
   "outputs": [],
   "source": [
    "# get train, validation, test sets\n",
    "ntrain = int(nelements * TRAIN_SPLIT)\n",
    "nvalidate = int(nelements * VALIDATION_SPLIT)\n",
    "ntest = int(nelements * TEST_SPLIT)\n",
    "#x_train = sequence\n",
    "#ntrain, nvalidate, ntest\n",
    "#x_train = sequence[:ntrain]\n",
    "#. will want generators iterating over the sequences"
   ]
  },
  {
   "cell_type": "code",
   "execution_count": null,
   "metadata": {
    "collapsed": false
   },
   "outputs": [],
   "source": [
    "# define generators\n",
    "#.\n",
    "\n",
    "def x_train():\n",
    "    # while True: #. endlessloop!\n",
    "    for i in range(5):\n",
    "        subsequence = sequence[i:i+10]\n",
    "        yield (subsequence[:-1], subsequence[-1])\n",
    "\n",
    "# if while True above then endless loop!\n",
    "for j in x_train():\n",
    "    print(j)\n"
   ]
  },
  {
   "cell_type": "code",
   "execution_count": null,
   "metadata": {
    "collapsed": false
   },
   "outputs": [],
   "source": [
    "# define generators to return subsequences of `sequence` \n",
    " \n",
    "def train_data_generator(): \n",
    "    while True: \n",
    "        for i in range(ntrain - N): \n",
    "            x = sequence[i:i+N-1].reshape(1,-1) \n",
    "            y = sequence[i+N-1] \n",
    "            # one-hot encode y \n",
    "            y = to_categorical([y], NVOCAB) \n",
    "            yield (x,y)\n",
    "            \n",
    "def validation_data_generator(): \n",
    "    while True: \n",
    "        for i in range(ntrain, ntrain + nvalidate - N): \n",
    "            x = sequence[i:i+N-1].reshape(1,-1) \n",
    "            y = sequence[i+N-1] \n",
    "            # one-hot encode y \n",
    "            y = to_categorical([y], NVOCAB+1) \n",
    "            yield (x,y) \n",
    "\n",
    "def test_data_generator(): \n",
    "    while True: \n",
    "        for i in range(ntrain + nvalidate, ntrain + nvalidate + ntest - N): \n",
    "            x = sequence[i:i+N-1].reshape(1,-1)  \n",
    "            y = sequence[i+N-1] \n",
    "            # one-hot encode y \n",
    "            y = to_categorical([y], NVOCAB+1) \n",
    "            yield (x,y)\n"
   ]
  },
  {
   "cell_type": "code",
   "execution_count": null,
   "metadata": {
    "collapsed": false
   },
   "outputs": [],
   "source": [
    "def create_dataset(data, nlookback=1):\n",
    "    \"\"\"\n",
    "    convert an array of values into a dataset matrix\n",
    "    eg _________\n",
    "    from http://machinelearningmastery.com/time-series-prediction-lstm-recurrent-neural-networks-python-keras/\n",
    "    \"\"\"\n",
    "    dataX, dataY = [], []\n",
    "    for i in range(len(data) - nlookback):\n",
    "        a = data[i:(i + nlookback)]\n",
    "        dataX.append(a)\n",
    "        dataY.append(data[i + nlookback])\n",
    "    return np.array(dataX), np.array(dataY)\n",
    "\n",
    "create_dataset(sequence[:10],3)\n",
    "\n",
    "# x_train will be O(N*nelements) ~ 10 * 1mil * 8bytes = 80mb\n",
    "# y_train will be O(nelements*NVOCAB) ~ 1mil * 10k * 8bytes = 80gb ! even 1k vocab -> 8gb\n"
   ]
  },
  {
   "cell_type": "markdown",
   "metadata": {},
   "source": [
    "## Build Model"
   ]
  },
  {
   "cell_type": "code",
   "execution_count": null,
   "metadata": {
    "collapsed": false
   },
   "outputs": [],
   "source": [
    "def top_k_accuracy(y_true, y_pred):\n",
    "    return top_k_categorical_accuracy(y_true, y_pred, k=TOP_PREDICTIONS)"
   ]
  },
  {
   "cell_type": "code",
   "execution_count": null,
   "metadata": {
    "collapsed": false
   },
   "outputs": [],
   "source": [
    "%%time\n",
    "\n",
    "# define the RNN model\n",
    "model = Sequential()\n",
    "embedding_layer = Embedding(input_dim=NVOCAB+1, output_dim=NHIDDEN, input_length=N-1, weights=[E])\n",
    "model.add(embedding_layer)\n",
    "model.layers[-1].trainable = False # slows convergence a lot\n",
    "model.add(RNN_CLASS(NHIDDEN)) # this is a SimpleRNN, LSTM, or GRU\n",
    "#model.add(RNN_CLASS(NHIDDEN, return_sequences=True)) # this is a SimpleRNN, LSTM, or GRU\n",
    "#model.add(Dropout(DROPOUT))\n",
    "#model.add(RNN_CLASS(NHIDDEN))\n",
    "#model.add(Dropout(DROPOUT))\n",
    "model.add(Dense(NVOCAB)) # convert nhidden to nvocab\n",
    "model.add(Activation('softmax')) # convert nvocab to probabilities - expensive\n",
    "metrics = ['accuracy', top_k_accuracy] # loss is always the first metric returned from the fit method\n",
    "\n",
    "# compile the model\n",
    "model.compile(loss='categorical_crossentropy', optimizer='adam', metrics=metrics)"
   ]
  },
  {
   "cell_type": "code",
   "execution_count": null,
   "metadata": {
    "collapsed": false
   },
   "outputs": [],
   "source": [
    "%%time\n",
    "# train the model\n",
    "try:\n",
    "    history = model.fit_generator(train_data_generator(), \n",
    "                                  samples_per_epoch=SAMPLES_PER_EPOCH, \n",
    "                                  nb_epoch=NEPOCHS,\n",
    "#                                  initial_epoch=4,\n",
    "                                  verbose=1)\n",
    "except KeyboardInterrupt:\n",
    "    pass"
   ]
  },
  {
   "cell_type": "code",
   "execution_count": null,
   "metadata": {
    "collapsed": false
   },
   "outputs": [],
   "source": [
    "plt.plot(history.history['loss']);\n",
    "#plt.plot(history.history['acc'])\n",
    "#plt.plot(history.history['top_k_accuracy'])"
   ]
  },
  {
   "cell_type": "code",
   "execution_count": null,
   "metadata": {
    "collapsed": false
   },
   "outputs": [],
   "source": [
    "#evaluate_generator(self, generator, val_samples, max_q_size=10, nb_worker=1, pickle_safe=False)"
   ]
  }
 ],
 "metadata": {
  "anaconda-cloud": {},
  "kernelspec": {
   "display_name": "Python [conda root]",
   "language": "python",
   "name": "conda-root-py"
  },
  "language_info": {
   "codemirror_mode": {
    "name": "ipython",
    "version": 3
   },
   "file_extension": ".py",
   "mimetype": "text/x-python",
   "name": "python",
   "nbconvert_exporter": "python",
   "pygments_lexer": "ipython3",
   "version": "3.5.2"
  }
 },
 "nbformat": 4,
 "nbformat_minor": 1
}
