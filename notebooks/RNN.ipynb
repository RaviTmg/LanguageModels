{
 "cells": [
  {
   "cell_type": "markdown",
   "metadata": {},
   "source": [
    "# RNN\n",
    "\n",
    "Read texts, train an RNN and plot results\n",
    "\n",
    "Adapted from https://github.com/fchollet/keras/blob/master/examples/pretrained_word_embeddings.py\n"
   ]
  },
  {
   "cell_type": "markdown",
   "metadata": {},
   "source": [
    "## Set Parameters"
   ]
  },
  {
   "cell_type": "code",
   "execution_count": null,
   "metadata": {
    "collapsed": false
   },
   "outputs": [],
   "source": [
    "# set parameters\n",
    "\n",
    "NVOCAB = 20000\n",
    "EMBEDDING_DIM = 50\n",
    "NHIDDEN = EMBEDDING_DIM\n",
    "N = 5\n",
    "RNN_CLASS_NAME = 'GRU'\n",
    "DROPOUT = 0\n",
    "NEPOCHS = 50\n",
    "INITIAL_EPOCH = 0 # to continue training\n",
    "SAMPLES_PER_EPOCH = 1000 # out of 1 million words...\n",
    "TRAINABLE_EMBEDDING = False # True will slow down training ~2x\n",
    "EARLY_STOPPING_PATIENCE = 10 # stop after this many epochs of no improvement\n",
    "LOSS_FN = 'categorical_crossentropy'\n",
    "OPTIMIZER = 'adam'\n",
    "\n",
    "# these don't need to be changed\n",
    "\n",
    "VALIDATION_SPLIT = 0.05\n",
    "TEST_SPLIT = 0.05\n",
    "TRAIN_SPLIT = (1 - VALIDATION_SPLIT - TEST_SPLIT)\n",
    "TOP_PREDICTIONS = 3 # top number of predictions to be considered for relevance score\n",
    "\n",
    "SEED = 0\n",
    "BASE_DIR = '..'\n",
    "TEXT_DIR = BASE_DIR + '/data/gutenbergs/1-raw' #. move to parentdir\n",
    "GLOVE_DIR = BASE_DIR + '/_vectors/glove.6B'\n",
    "GLOVE_FILE = GLOVE_DIR + '/glove.6B.%dd.txt' % EMBEDDING_DIM\n"
   ]
  },
  {
   "cell_type": "markdown",
   "metadata": {},
   "source": [
    "## Import"
   ]
  },
  {
   "cell_type": "code",
   "execution_count": null,
   "metadata": {
    "collapsed": false
   },
   "outputs": [],
   "source": [
    "%%time\n",
    "# import python modules\n",
    "\n",
    "from __future__ import print_function, division\n",
    "import sys\n",
    "print(sys.version)\n",
    "import os\n",
    "import os.path\n",
    "import random\n",
    "import codecs\n",
    "import re"
   ]
  },
  {
   "cell_type": "code",
   "execution_count": null,
   "metadata": {
    "collapsed": false
   },
   "outputs": [],
   "source": [
    "%%time\n",
    "# import libraries\n",
    "\n",
    "import numpy as np\n",
    "np.random.seed(SEED)\n",
    "import pandas as pd\n",
    "import matplotlib.pyplot as plt\n",
    "%matplotlib inline\n",
    "import seaborn as sns\n",
    "\n",
    "from nltk import tokenize\n",
    "from keras.preprocessing.text import Tokenizer\n",
    "#from keras.preprocessing.sequence import pad_sequences\n",
    "from keras.utils.np_utils import to_categorical\n",
    "from keras.layers import Dense, Activation, Dropout\n",
    "from keras.models import Model\n",
    "from keras.models import Sequential\n",
    "#from keras.models import load_model\n",
    "from keras.layers.embeddings import Embedding\n",
    "from keras.layers.recurrent import SimpleRNN, LSTM, GRU\n",
    "from keras.callbacks import EarlyStopping\n",
    "from keras.metrics import top_k_categorical_accuracy"
   ]
  },
  {
   "cell_type": "code",
   "execution_count": null,
   "metadata": {
    "collapsed": false
   },
   "outputs": [],
   "source": [
    "rnn_classes = {'SimpleRNN':SimpleRNN, 'LSTM': LSTM, 'GRU': GRU}\n",
    "RNN_CLASS = rnn_classes[RNN_CLASS_NAME]"
   ]
  },
  {
   "cell_type": "markdown",
   "metadata": {},
   "source": [
    "## Process Texts"
   ]
  },
  {
   "cell_type": "code",
   "execution_count": null,
   "metadata": {
    "collapsed": false
   },
   "outputs": [],
   "source": [
    "# read texts ~ 0.2sec\n",
    "print('Reading texts')\n",
    "text = ''\n",
    "for filename in sorted(os.listdir(TEXT_DIR)):\n",
    "    filepath = TEXT_DIR +'/' + filename\n",
    "    print(filepath)\n",
    "    encoding = 'utf-8'\n",
    "    with codecs.open(filepath, 'r', encoding=encoding, errors='ignore') as f:\n",
    "        s = f.read()\n",
    "        s = s.replace('\\r\\n','\\n')\n",
    "        text += s\n",
    "print('done')"
   ]
  },
  {
   "cell_type": "code",
   "execution_count": null,
   "metadata": {
    "collapsed": false
   },
   "outputs": [],
   "source": [
    "# split text into paragraphs, shuffle, and recombine ~0.2sec\n",
    "paragraphs = re.split(r\"\\n\\n+\", text)\n",
    "print(len(paragraphs)) # 22989\n",
    "random.shuffle(paragraphs)\n",
    "text = '\\n\\n'.join(paragraphs)\n",
    "del paragraphs\n",
    "text[:1000] # show sample text"
   ]
  },
  {
   "cell_type": "code",
   "execution_count": null,
   "metadata": {
    "collapsed": false
   },
   "outputs": [],
   "source": [
    "%%time\n",
    "# tokenize text into word indexes ~ 5sec\n",
    "texts = [text] # just one giant text\n",
    "tokenizer = Tokenizer(nb_words=NVOCAB)\n",
    "tokenizer.fit_on_texts(texts)\n",
    "sequences = tokenizer.texts_to_sequences(texts)\n",
    "sequence = sequences[0] \n",
    "nelements = len(sequence) \n",
    "sequence = np.array(sequence, dtype=np.int)\n",
    "print(nelements) # 1099744\n",
    "print(sequence[:100])"
   ]
  },
  {
   "cell_type": "code",
   "execution_count": null,
   "metadata": {
    "collapsed": false
   },
   "outputs": [],
   "source": [
    "word_index = tokenizer.word_index\n",
    "print('Found %s unique tokens.' % len(word_index))\n",
    "print('a:', word_index['a'])"
   ]
  },
  {
   "cell_type": "code",
   "execution_count": null,
   "metadata": {
    "collapsed": false
   },
   "outputs": [],
   "source": [
    "# clear some memory\n",
    "del text\n",
    "del texts"
   ]
  },
  {
   "cell_type": "markdown",
   "metadata": {},
   "source": [
    "## Get Embedding Matrix"
   ]
  },
  {
   "cell_type": "code",
   "execution_count": null,
   "metadata": {
    "collapsed": false
   },
   "outputs": [],
   "source": [
    "%%time\n",
    "# get word vectors ~ 15sec\n",
    "print('Reading word vectors...')\n",
    "word_vectors = {}\n",
    "with open(GLOVE_FILE, encoding='utf8') as f:\n",
    "    for line in f:\n",
    "        values = line.split()\n",
    "        word = values[0]\n",
    "        coefs = np.asarray(values[1:], dtype='float32')\n",
    "        word_vectors[word] = coefs\n",
    "print('Found %s word vectors.' % len(word_vectors))"
   ]
  },
  {
   "cell_type": "code",
   "execution_count": null,
   "metadata": {
    "collapsed": false
   },
   "outputs": [],
   "source": [
    "print('a:',word_vectors['a'])\n",
    "print(list(word_vectors.keys())[:10])"
   ]
  },
  {
   "cell_type": "code",
   "execution_count": null,
   "metadata": {
    "collapsed": false
   },
   "outputs": [],
   "source": [
    "%%time\n",
    "# build embedding matrix of the top nvocab words\n",
    "nwords = min(NVOCAB, len(word_index))\n",
    "E = np.zeros((nwords + 1, EMBEDDING_DIM))\n",
    "for word, iword in word_index.items():\n",
    "    if iword > NVOCAB:\n",
    "        continue\n",
    "    word_vector = word_vectors.get(word)\n",
    "    # words not found in embedding index will be all zeros\n",
    "    if word_vector is not None:\n",
    "        E[iword] = word_vector"
   ]
  },
  {
   "cell_type": "code",
   "execution_count": null,
   "metadata": {
    "collapsed": false
   },
   "outputs": [],
   "source": [
    "print(len(E))\n",
    "print(E[:2])"
   ]
  },
  {
   "cell_type": "code",
   "execution_count": null,
   "metadata": {
    "collapsed": false
   },
   "outputs": [],
   "source": [
    "%%time\n",
    "# clear some memory\n",
    "del word_vectors"
   ]
  },
  {
   "cell_type": "markdown",
   "metadata": {},
   "source": [
    "## Split Data"
   ]
  },
  {
   "cell_type": "code",
   "execution_count": null,
   "metadata": {
    "collapsed": false
   },
   "outputs": [],
   "source": [
    "# get train, validation, test sets\n",
    "ntrain = int(nelements * TRAIN_SPLIT)\n",
    "nvalidate = int(nelements * VALIDATION_SPLIT)\n",
    "ntest = int(nelements * TEST_SPLIT)\n",
    "#x_train = sequence\n",
    "#ntrain, nvalidate, ntest\n",
    "#x_train = sequence[:ntrain]\n",
    "#. will want generators iterating over the sequences"
   ]
  },
  {
   "cell_type": "code",
   "execution_count": null,
   "metadata": {
    "collapsed": false
   },
   "outputs": [],
   "source": [
    "# define generators\n",
    "#.\n",
    "\n",
    "def x_train():\n",
    "    # while True: #. endlessloop!\n",
    "    for i in range(5):\n",
    "        subsequence = sequence[i:i+10]\n",
    "        yield (subsequence[:-1], subsequence[-1])\n",
    "\n",
    "# if while True above then endless loop!\n",
    "for j in x_train():\n",
    "    print(j)\n"
   ]
  },
  {
   "cell_type": "code",
   "execution_count": null,
   "metadata": {
    "collapsed": false
   },
   "outputs": [],
   "source": [
    "# define generators to return subsequences of `sequence` \n",
    " \n",
    "def train_data_generator(): \n",
    "    while True: \n",
    "        for i in range(ntrain - N): \n",
    "            x = sequence[i:i+N-1].reshape(1,-1) \n",
    "            y = sequence[i+N-1]\n",
    "            #y = sequence[i+N-1].reshape(1,-1) \n",
    "            # one-hot encode y \n",
    "            y = to_categorical([y], NVOCAB) \n",
    "            yield (x,y)\n",
    "            \n",
    "def validation_data_generator(): \n",
    "    while True: \n",
    "        for i in range(ntrain, ntrain + nvalidate - N): \n",
    "            x = sequence[i:i+N-1].reshape(1,-1) \n",
    "            y = sequence[i+N-1] \n",
    "            # one-hot encode y \n",
    "            y = to_categorical([y], NVOCAB+1) \n",
    "            yield (x,y) \n",
    "\n",
    "def test_data_generator(): \n",
    "    while True: \n",
    "        for i in range(ntrain + nvalidate, ntrain + nvalidate + ntest - N): \n",
    "            x = sequence[i:i+N-1].reshape(1,-1)  \n",
    "            y = sequence[i+N-1] \n",
    "            # one-hot encode y \n",
    "            y = to_categorical([y], NVOCAB+1) \n",
    "            yield (x,y)\n"
   ]
  },
  {
   "cell_type": "code",
   "execution_count": null,
   "metadata": {
    "collapsed": false
   },
   "outputs": [],
   "source": [
    "def create_dataset(data, nvocab, nlookback=1):\n",
    "    \"\"\"\n",
    "    convert an array of values into a dataset matrix with one-hot encoded labels\n",
    "    eg _________\n",
    "    adapted from http://machinelearningmastery.com/time-series-prediction-lstm-recurrent-neural-networks-python-keras/\n",
    "    \"\"\"\n",
    "    dataX, dataY = [], []\n",
    "    for i in range(len(data) - nlookback):\n",
    "        x = data[i:(i + nlookback)]\n",
    "        y = data[i + nlookback]\n",
    "        y = to_categorical([y], nvocab+1)\n",
    "        dataX.append(x)\n",
    "        dataY.append(y)\n",
    "    return np.array(dataX), np.array(dataY, dtype=int)\n",
    "\n",
    "create_dataset([3,2,5,6,2,1,7,9],10,3)"
   ]
  },
  {
   "cell_type": "code",
   "execution_count": null,
   "metadata": {
    "collapsed": false
   },
   "outputs": [],
   "source": [
    "# x_train will be O(N*nelements) ~ 10 * 1mil * 8bytes = 80mb\n",
    "# y_train will be O(nelements*NVOCAB) ~ 1mil * 10k * 8bytes = 80gb ! even 1k vocab -> 8gb\n",
    "\n",
    "\n",
    "def create_dataset(data, noffset, nelements, ncontext, nvocab):\n",
    "    \"\"\"\n",
    "    convert an array of values into a dataset matrix with one-hot encoded labels\n",
    "    eg _________\n",
    "    adapted from http://machinelearningmastery.com/time-series-prediction-lstm-recurrent-neural-networks-python-keras/\n",
    "    \"\"\"\n",
    "    dataX, dataY = [], []\n",
    "    for i in range(noffset, noffset + nelements - ncontext):\n",
    "        x = data[i:(i + ncontext)]\n",
    "        y = data[i + ncontext]\n",
    "        y = to_categorical([y], nvocab)\n",
    "        dataX.append([x])\n",
    "        dataY.append(y)\n",
    "    #return np.array(dataX), np.array(dataY, dtype=int)\n",
    "    #x_batch = np.array(dataX).reshape(1,-1)\n",
    "    x_batch = np.array(dataX)\n",
    "    y_batch = np.array(dataY, dtype=int)\n",
    "    return x_batch, y_batch\n",
    "\n",
    "x,y = create_dataset([0,1,2,3,4,5,6,7,8,9],noffset=2,nelements=6,ncontext=3,nvocab=10)\n",
    "print(x)\n",
    "print(y)"
   ]
  },
  {
   "cell_type": "code",
   "execution_count": null,
   "metadata": {
    "collapsed": false
   },
   "outputs": [],
   "source": [
    "nepochs = 2\n",
    "ncontext = 3\n",
    "samples_per_epoch = 6\n",
    "seq = [0,1,2,3,4,5,6,7,8,9] * 10\n",
    "for nepoch in range(nepochs):\n",
    "    noffset = nepoch * samples_per_epoch\n",
    "    x, y = create_dataset(seq, noffset=noffset, nelements=samples_per_epoch, ncontext=ncontext, nvocab=10)\n",
    "    print(nepoch, x, y)"
   ]
  },
  {
   "cell_type": "markdown",
   "metadata": {},
   "source": [
    "## Build Model"
   ]
  },
  {
   "cell_type": "code",
   "execution_count": null,
   "metadata": {
    "collapsed": false
   },
   "outputs": [],
   "source": [
    "# note: this doesn't work with sparse_categorical_crossentropy\n",
    "def top_k_accuracy(y_true, y_pred):\n",
    "    return top_k_categorical_accuracy(y_true, y_pred, k=TOP_PREDICTIONS)"
   ]
  },
  {
   "cell_type": "code",
   "execution_count": null,
   "metadata": {
    "collapsed": false
   },
   "outputs": [],
   "source": [
    "%%time\n",
    "# define the RNN model\n",
    "model = Sequential()\n",
    "embedding_layer = Embedding(input_dim=NVOCAB+1, output_dim=NHIDDEN, input_length=N-1, weights=[E])\n",
    "model.add(embedding_layer)\n",
    "model.layers[-1].trainable = TRAINABLE_EMBEDDING\n",
    "model.add(RNN_CLASS(NHIDDEN))\n",
    "#model.add(RNN_CLASS(NHIDDEN, return_sequences=True))\n",
    "model.add(Dropout(DROPOUT))\n",
    "#model.add(RNN_CLASS(NHIDDEN))\n",
    "#model.add(Dropout(DROPOUT))\n",
    "model.add(Dense(NVOCAB)) # convert nhidden to nvocab\n",
    "model.add(Activation('softmax')) # convert nvocab to probabilities - expensive\n",
    "metrics = ['accuracy', top_k_accuracy] # loss is always the first metric returned from the fit method\n",
    "\n",
    "# compile the model\n",
    "\n",
    "model.compile(loss=LOSS_FN, optimizer=OPTIMIZER, metrics=metrics)"
   ]
  },
  {
   "cell_type": "markdown",
   "metadata": {},
   "source": [
    "## Train Model"
   ]
  },
  {
   "cell_type": "code",
   "execution_count": null,
   "metadata": {
    "collapsed": false
   },
   "outputs": [],
   "source": [
    "#%%time\n",
    "#history = model.fit()"
   ]
  },
  {
   "cell_type": "code",
   "execution_count": null,
   "metadata": {
    "collapsed": false
   },
   "outputs": [],
   "source": [
    "%%time\n",
    "\n",
    "# stop if no improvement for n epochs\n",
    "early_stopping = EarlyStopping(monitor='loss', patience=EARLY_STOPPING_PATIENCE, verbose=1)\n",
    "callbacks = [early_stopping]\n",
    "\n",
    "try:\n",
    "    history = model.fit_generator(train_data_generator(), \n",
    "                                  samples_per_epoch=SAMPLES_PER_EPOCH, \n",
    "                                  nb_epoch=NEPOCHS,\n",
    "                                  callbacks=callbacks,\n",
    "                                  initial_epoch=INITIAL_EPOCH) # needs keras 1.2.1 (2017-01-19)\n",
    "except KeyboardInterrupt:\n",
    "    pass"
   ]
  },
  {
   "cell_type": "code",
   "execution_count": null,
   "metadata": {
    "collapsed": false
   },
   "outputs": [],
   "source": [
    "#%%time\n",
    "# build our own batches and iterate over them - would need to implement lots of infrastructure\n",
    "#for nepoch in range(nepochs):\n",
    "#    noffset = nepoch * SAMPLES_PER_EPOCH\n",
    "#    x_batch, y_batch = create_dataset(sequence, noffset=noffset, nelements=SAMPLES_PER_EPOCH, ncontext=N-1, nvocab=NVOCAB)\n",
    "#    for x,y in zip(x_batch, y_batch):\n",
    "#        model.train_on_batch(x, y)\n",
    "#    x_validate, y_validate = x, y\n",
    "#    loss, accuracy, relevance = model.test_on_batch(x_validate, y_validate)\n",
    "#    print(nepoch, loss, accuracy, relevance)"
   ]
  },
  {
   "cell_type": "code",
   "execution_count": null,
   "metadata": {
    "collapsed": false
   },
   "outputs": [],
   "source": [
    "plt.plot(history.history['loss'])\n",
    "plt.xlabel('epoch-1')\n",
    "plt.ylabel('loss');"
   ]
  },
  {
   "cell_type": "code",
   "execution_count": null,
   "metadata": {
    "collapsed": false
   },
   "outputs": [],
   "source": [
    "plt.plot(history.history['acc'])\n",
    "plt.plot(history.history['top_k_accuracy'])\n",
    "plt.xlabel('epoch-1')\n",
    "plt.ylabel('accuracy, relevance')\n",
    "plt.legend();"
   ]
  },
  {
   "cell_type": "markdown",
   "metadata": {},
   "source": [
    "## Evaluate Model"
   ]
  },
  {
   "cell_type": "code",
   "execution_count": null,
   "metadata": {
    "collapsed": false
   },
   "outputs": [],
   "source": [
    "#evaluate_generator(self, generator, val_samples, max_q_size=10, nb_worker=1, pickle_safe=False)"
   ]
  },
  {
   "cell_type": "code",
   "execution_count": null,
   "metadata": {
    "collapsed": false
   },
   "outputs": [],
   "source": []
  }
 ],
 "metadata": {
  "anaconda-cloud": {},
  "kernelspec": {
   "display_name": "Python [conda root]",
   "language": "python",
   "name": "conda-root-py"
  },
  "language_info": {
   "codemirror_mode": {
    "name": "ipython",
    "version": 3
   },
   "file_extension": ".py",
   "mimetype": "text/x-python",
   "name": "python",
   "nbconvert_exporter": "python",
   "pygments_lexer": "ipython3",
   "version": "3.5.2"
  }
 },
 "nbformat": 4,
 "nbformat_minor": 1
}
